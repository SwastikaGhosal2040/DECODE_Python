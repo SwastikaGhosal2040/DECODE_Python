{
 "cells": [
  {
   "cell_type": "code",
   "execution_count": null,
   "id": "b55b2e1a-f733-4221-b184-66c325e2d9e8",
   "metadata": {},
   "outputs": [],
   "source": [
    "n=int(input(\"Please enter the number of n upto which we want the fibonacci series :  \"))\n",
    "if(n<=0):\n",
    "    print(\"Number entered is not correct. It should be > 0. Enter num\",n)\n",
    "print(1,end=\",\")\n",
    "if(n==1):\n",
    "    pass\n",
    "else:\n",
    "    print(1,end=\",\")\n",
    "    if(n==2):\n",
    "        pass\n",
    "    else:\n",
    "        #print the remaining part of the series\n",
    "        prev=1\n",
    "        prev_prev=1\n",
    "        for num in range(3,n+1):\n",
    "            print(prev+prev_prev,end=\",\")\n",
    "            prev,prev_prev=prev+prev_prev,prev"
   ]
  }
 ],
 "metadata": {
  "kernelspec": {
   "display_name": "Python 3 (ipykernel)",
   "language": "python",
   "name": "python3"
  },
  "language_info": {
   "codemirror_mode": {
    "name": "ipython",
    "version": 3
   },
   "file_extension": ".py",
   "mimetype": "text/x-python",
   "name": "python",
   "nbconvert_exporter": "python",
   "pygments_lexer": "ipython3",
   "version": "3.10.8"
  }
 },
 "nbformat": 4,
 "nbformat_minor": 5
}
