{
 "cells": [
  {
   "cell_type": "code",
   "execution_count": 1,
   "id": "1ee2ef01-f966-4c6c-b5a7-00607af5eb5f",
   "metadata": {},
   "outputs": [
    {
     "name": "stdin",
     "output_type": "stream",
     "text": [
      "Enter the number :  17\n"
     ]
    },
    {
     "name": "stdout",
     "output_type": "stream",
     "text": [
      "Number is greater than 15\n"
     ]
    }
   ],
   "source": [
    "x = int(input(\"Enter the number : \"))\n",
    "if x>15:\n",
    "    print(\"Number is greater than 15\")"
   ]
  },
  {
   "cell_type": "code",
   "execution_count": 2,
   "id": "5bd58b3b-4fc3-4073-adba-4632fab8befa",
   "metadata": {},
   "outputs": [
    {
     "name": "stdin",
     "output_type": "stream",
     "text": [
      "Enter the number :  3\n"
     ]
    }
   ],
   "source": [
    "x = int(input(\"Enter the number : \"))\n",
    "if x>15:\n",
    "    print(\"Number is greater than 15\")"
   ]
  },
  {
   "cell_type": "code",
   "execution_count": 3,
   "id": "3eb04c89-650c-4b26-b356-59461df440aa",
   "metadata": {},
   "outputs": [],
   "source": [
    "#As the condition is failed, nothing is printed as output"
   ]
  },
  {
   "cell_type": "code",
   "execution_count": 4,
   "id": "9834c941-c288-44cf-ad05-66a57b6aeac1",
   "metadata": {},
   "outputs": [
    {
     "name": "stdin",
     "output_type": "stream",
     "text": [
      "Enter the number :  33\n"
     ]
    },
    {
     "name": "stdout",
     "output_type": "stream",
     "text": [
      "Number is greater than 15\n"
     ]
    }
   ],
   "source": [
    "x = int(input(\"Enter the number : \"))\n",
    "if x>15:\n",
    "    print(\"Number is greater than 15\")\n",
    "elif x==15:\n",
    "    print(\"Number is equal to 15\")\n",
    "else:\n",
    "    print(\"Number is less than 15\")"
   ]
  },
  {
   "cell_type": "code",
   "execution_count": 5,
   "id": "aad9c04a-761d-490c-8805-e84e26864ca4",
   "metadata": {},
   "outputs": [
    {
     "name": "stdin",
     "output_type": "stream",
     "text": [
      "Enter the number :  15\n"
     ]
    },
    {
     "name": "stdout",
     "output_type": "stream",
     "text": [
      "Number is equal to 15\n"
     ]
    }
   ],
   "source": [
    "#part2 output:\n",
    "\n",
    "x = int(input(\"Enter the number : \"))\n",
    "if x>15:\n",
    "    print(\"Number is greater than 15\")\n",
    "elif x==15:\n",
    "    print(\"Number is equal to 15\")\n",
    "else:\n",
    "    print(\"Number is less than 15\")"
   ]
  },
  {
   "cell_type": "code",
   "execution_count": 6,
   "id": "e38f4ce4-9fc0-4884-a749-9b05c190f70c",
   "metadata": {},
   "outputs": [
    {
     "name": "stdin",
     "output_type": "stream",
     "text": [
      "Enter the number :  4\n"
     ]
    },
    {
     "name": "stdout",
     "output_type": "stream",
     "text": [
      "Number is less than 15\n"
     ]
    }
   ],
   "source": [
    "#part3 output\n",
    "x = int(input(\"Enter the number : \"))\n",
    "if x>15:\n",
    "    print(\"Number is greater than 15\")\n",
    "elif x==15:\n",
    "    print(\"Number is equal to 15\")\n",
    "else:\n",
    "    print(\"Number is less than 15\")"
   ]
  },
  {
   "cell_type": "code",
   "execution_count": null,
   "id": "495eee31-90dd-4922-891f-bc742199cf8b",
   "metadata": {},
   "outputs": [],
   "source": [
    "marks = 85\n",
    "\n",
    "if marks>=90:\n",
    "    print(\"A\")\n",
    "elif marks>=80:\n",
    "    print(\"B\")\n",
    "elif marks>=70:\n",
    "    print(\"C\")\n",
    "elif marks>=60:\n",
    "    print(\"D\")\n",
    "else:\n",
    "    print(\"\")"
   ]
  }
 ],
 "metadata": {
  "kernelspec": {
   "display_name": "Python 3 (ipykernel)",
   "language": "python",
   "name": "python3"
  },
  "language_info": {
   "codemirror_mode": {
    "name": "ipython",
    "version": 3
   },
   "file_extension": ".py",
   "mimetype": "text/x-python",
   "name": "python",
   "nbconvert_exporter": "python",
   "pygments_lexer": "ipython3",
   "version": "3.10.8"
  }
 },
 "nbformat": 4,
 "nbformat_minor": 5
}
