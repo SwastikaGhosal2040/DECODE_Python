{
 "cells": [
  {
   "cell_type": "code",
   "execution_count": 1,
   "id": "95de4452-0b8d-4185-a012-2cac2742dc58",
   "metadata": {},
   "outputs": [
    {
     "name": "stdout",
     "output_type": "stream",
     "text": [
      "True\n",
      "False\n",
      "False\n",
      "False\n"
     ]
    }
   ],
   "source": [
    "print(True and True)\n",
    "print(True and False)\n",
    "print(False and True)\n",
    "print(False and False)"
   ]
  },
  {
   "cell_type": "code",
   "execution_count": 2,
   "id": "d3039e75-7d84-4793-99da-a9b130c53799",
   "metadata": {},
   "outputs": [
    {
     "name": "stdout",
     "output_type": "stream",
     "text": [
      "True\n",
      "True\n",
      "True\n",
      "False\n"
     ]
    }
   ],
   "source": [
    "print(True or True)\n",
    "print(True or False)\n",
    "print(False or True)\n",
    "print(False or False)"
   ]
  },
  {
   "cell_type": "code",
   "execution_count": 3,
   "id": "a96afcc8-278b-48df-aabe-635ab95924c9",
   "metadata": {},
   "outputs": [
    {
     "name": "stdout",
     "output_type": "stream",
     "text": [
      "True\n",
      "False\n"
     ]
    }
   ],
   "source": [
    "print(True)\n",
    "print(not True)"
   ]
  },
  {
   "cell_type": "code",
   "execution_count": 4,
   "id": "f480ca45-b303-40f8-89c2-dfd8a8dd5013",
   "metadata": {},
   "outputs": [
    {
     "name": "stdout",
     "output_type": "stream",
     "text": [
      "False\n",
      "True\n"
     ]
    }
   ],
   "source": [
    "print(5>7)\n",
    "#Expression returns Boolean\n",
    "print(not 5>7)"
   ]
  },
  {
   "cell_type": "code",
   "execution_count": 5,
   "id": "3b6c5e81-e634-4479-aede-1d9550344c70",
   "metadata": {},
   "outputs": [
    {
     "name": "stdout",
     "output_type": "stream",
     "text": [
      "True\n",
      "True\n",
      "False\n",
      "False\n"
     ]
    }
   ],
   "source": [
    "#XOR\n",
    "#Returns true when 1 is True and 1 is False\n",
    "print(True ^ False)\n",
    "print(False ^ True)\n",
    "print(True ^ True)\n",
    "print(False ^ False)"
   ]
  },
  {
   "cell_type": "code",
   "execution_count": null,
   "id": "efc84854-b7ae-4ccd-b874-13f2669a5bc6",
   "metadata": {},
   "outputs": [],
   "source": []
  }
 ],
 "metadata": {
  "kernelspec": {
   "display_name": "Python 3 (ipykernel)",
   "language": "python",
   "name": "python3"
  },
  "language_info": {
   "codemirror_mode": {
    "name": "ipython",
    "version": 3
   },
   "file_extension": ".py",
   "mimetype": "text/x-python",
   "name": "python",
   "nbconvert_exporter": "python",
   "pygments_lexer": "ipython3",
   "version": "3.10.8"
  }
 },
 "nbformat": 4,
 "nbformat_minor": 5
}
