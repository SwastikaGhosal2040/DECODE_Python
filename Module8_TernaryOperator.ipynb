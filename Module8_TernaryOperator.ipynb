{
 "cells": [
  {
   "cell_type": "code",
   "execution_count": 2,
   "id": "fa3fc8ed-1eaa-440b-92e7-e82901011fdb",
   "metadata": {},
   "outputs": [
    {
     "name": "stdout",
     "output_type": "stream",
     "text": [
      "Number is :  Positive\n"
     ]
    }
   ],
   "source": [
    "num = 5\n",
    "\n",
    "result = \"Positive\" if num>=0 else \"Negative\"\n",
    "print(\"Number is : \", result)"
   ]
  },
  {
   "cell_type": "code",
   "execution_count": null,
   "id": "84e4187a",
   "metadata": {},
   "outputs": [],
   "source": []
  }
 ],
 "metadata": {
  "kernelspec": {
   "display_name": "Python 3 (ipykernel)",
   "language": "python",
   "name": "python3"
  },
  "language_info": {
   "codemirror_mode": {
    "name": "ipython",
    "version": 3
   },
   "file_extension": ".py",
   "mimetype": "text/x-python",
   "name": "python",
   "nbconvert_exporter": "python",
   "pygments_lexer": "ipython3",
   "version": "3.11.9"
  }
 },
 "nbformat": 4,
 "nbformat_minor": 5
}
