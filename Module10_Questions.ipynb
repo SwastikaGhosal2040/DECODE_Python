{
  "nbformat": 4,
  "nbformat_minor": 0,
  "metadata": {
    "colab": {
      "provenance": [],
      "authorship_tag": "ABX9TyML0AFftWuGWdDCwl138cpb",
      "include_colab_link": true
    },
    "kernelspec": {
      "name": "python3",
      "display_name": "Python 3"
    },
    "language_info": {
      "name": "python"
    }
  },
  "cells": [
    {
      "cell_type": "markdown",
      "metadata": {
        "id": "view-in-github",
        "colab_type": "text"
      },
      "source": [
        "<a href=\"https://colab.research.google.com/github/SwastikaGhosal2040/DECODE_Python/blob/main/Module10_Questions.ipynb\" target=\"_parent\"><img src=\"https://colab.research.google.com/assets/colab-badge.svg\" alt=\"Open In Colab\"/></a>"
      ]
    },
    {
      "cell_type": "code",
      "execution_count": 1,
      "metadata": {
        "id": "ltYos5S3rWxB"
      },
      "outputs": [],
      "source": [
        "#Write a Python program to check if a number is prime or not"
      ]
    },
    {
      "cell_type": "code",
      "source": [
        "#Theory:\n",
        "#I have to take a number input(num)\n",
        "#Iterate a for loop whose range should be from 2 to root of the number(num*0.5) taken input or half of the number taken input(num/2)\n",
        "#Check whether the input number taken(num) is divisible by <= root num\n",
        "#------------------------------------------------------------------------------------\n",
        "#code1:\n",
        "num=int(input(\"Enter a number:\"))\n",
        "isPrime=True\n",
        "if(num<=1):\n",
        "  isPrime=False\n",
        "for i in range(2,int(num/2)+1):\n",
        "  if num%i==0:\n",
        "     isPrime=False\n",
        "  break\n",
        "print(\"Number passed is prime : \",isPrime)"
      ],
      "metadata": {
        "colab": {
          "base_uri": "https://localhost:8080/"
        },
        "id": "Sc8pcSepsBAE",
        "outputId": "436c47a7-7e07-4d62-ed03-1d1290d3bb59"
      },
      "execution_count": 10,
      "outputs": [
        {
          "output_type": "stream",
          "name": "stdout",
          "text": [
            "Enter a number:3\n",
            "Number passed is prime :  True\n"
          ]
        }
      ]
    },
    {
      "cell_type": "code",
      "source": [
        "#check whether the code returns False when non Prime number is taken input\n",
        "num=int(input(\"Enter a number:\"))\n",
        "isPrime=True\n",
        "if(num<=1):\n",
        "  isPrime=False\n",
        "for i in range(2,int(num/2)+1):\n",
        "  if num%i==0:\n",
        "    isPrime=False\n",
        "  break\n",
        "print(\"Number passed is prime : \",isPrime)"
      ],
      "metadata": {
        "colab": {
          "base_uri": "https://localhost:8080/"
        },
        "id": "QHwsnPbBucOh",
        "outputId": "735f8709-9f5d-4d72-cc45-ce8bd04488de"
      },
      "execution_count": 9,
      "outputs": [
        {
          "output_type": "stream",
          "name": "stdout",
          "text": [
            "Enter a number:8\n",
            "Number passed is prime :  False\n"
          ]
        }
      ]
    },
    {
      "cell_type": "markdown",
      "source": [
        "Write a Python program to print the multiplication table of a given number"
      ],
      "metadata": {
        "id": "VeyZBePpz8Nf"
      }
    },
    {
      "cell_type": "code",
      "source": [
        "num=int(input(\"Enter a number to generate the multiplication table : \"))\n",
        "for i in range(1,11):\n",
        "  print(num,\"*\",i,\"=\",num*i)"
      ],
      "metadata": {
        "colab": {
          "base_uri": "https://localhost:8080/"
        },
        "id": "4zkWEwC6uhYi",
        "outputId": "30e639a6-a15e-41ad-9c13-857ba0518523"
      },
      "execution_count": 11,
      "outputs": [
        {
          "output_type": "stream",
          "name": "stdout",
          "text": [
            "Enter a number to generate the multiplication table : 19\n",
            "19 * 1 = 19\n",
            "19 * 2 = 38\n",
            "19 * 3 = 57\n",
            "19 * 4 = 76\n",
            "19 * 5 = 95\n",
            "19 * 6 = 114\n",
            "19 * 7 = 133\n",
            "19 * 8 = 152\n",
            "19 * 9 = 171\n",
            "19 * 10 = 190\n"
          ]
        }
      ]
    },
    {
      "cell_type": "markdown",
      "source": [
        "Write a Python program to print the following pattern\n",
        "*\n",
        "* *\n",
        "* * *\n",
        "* * * *\n",
        "* * * * *"
      ],
      "metadata": {
        "id": "_d_o5wpo1GWt"
      }
    },
    {
      "cell_type": "code",
      "source": [
        "# Number of rows\n",
        "num_rows = 5\n",
        "\n",
        "# Loop through each row\n",
        "for i in range(1, num_rows + 1):\n",
        "    # Print '*' i times\n",
        "    for j in range(i):\n",
        "        print('*', end=' ')\n",
        "    # Move to the next line after printing each row\n",
        "    print()\n"
      ],
      "metadata": {
        "colab": {
          "base_uri": "https://localhost:8080/"
        },
        "id": "VEou0wOX1ftT",
        "outputId": "fe131ce4-c534-4747-b206-117332553208"
      },
      "execution_count": 17,
      "outputs": [
        {
          "output_type": "stream",
          "name": "stdout",
          "text": [
            "* \n",
            "* * \n",
            "* * * \n",
            "* * * * \n",
            "* * * * * \n"
          ]
        }
      ]
    },
    {
      "cell_type": "code",
      "source": [],
      "metadata": {
        "id": "N3umGFHM2TPd"
      },
      "execution_count": null,
      "outputs": []
    }
  ]
}