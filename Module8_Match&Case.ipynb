{
 "cells": [
  {
   "cell_type": "code",
   "execution_count": 2,
   "id": "e799f071-a459-4fe1-b0ff-15095af08508",
   "metadata": {},
   "outputs": [
    {
     "name": "stdout",
     "output_type": "stream",
     "text": [
      "Today is Friday\n"
     ]
    }
   ],
   "source": [
    "day_num = 5\n",
    "\n",
    "match day_num:\n",
    "    case 1:\n",
    "        print(\"Today is Monday\")\n",
    "    case 2:\n",
    "        print(\"Today is Tuesday\")\n",
    "    case 3:\n",
    "        print(\"Today is Wednesday\")\n",
    "    case 4:\n",
    "        print(\"Today is Thursday\")\n",
    "    case 5:\n",
    "        print(\"Today is Friday\")\n",
    "    case 6:\n",
    "        print(\"Today is Saturday\")\n",
    "    case 7:\n",
    "        print(\"Today is Sunday\")\n",
    "    case _:\n",
    "        print(\"Invalid day number\")"
   ]
  },
  {
   "cell_type": "code",
   "execution_count": 3,
   "id": "f0d00e1f-b8c5-4bb8-8e80-c3c0d8170b58",
   "metadata": {},
   "outputs": [
    {
     "name": "stdout",
     "output_type": "stream",
     "text": [
      "Invalid day number\n"
     ]
    }
   ],
   "source": [
    "day_num = 11\n",
    "\n",
    "match day_num:\n",
    "    case 1:\n",
    "        print(\"Today is Monday\")\n",
    "    case 2:\n",
    "        print(\"Today is Tuesday\")\n",
    "    case 3:\n",
    "        print(\"Today is Wednesday\")\n",
    "    case 4:\n",
    "        print(\"Today is Thursday\")\n",
    "    case 5:\n",
    "        print(\"Today is Friday\")\n",
    "    case 6:\n",
    "        print(\"Today is Saturday\")\n",
    "    case 7:\n",
    "        print(\"Today is Sunday\")\n",
    "    case _:\n",
    "        print(\"Invalid day number\")"
   ]
  },
  {
   "cell_type": "code",
   "execution_count": null,
   "id": "2994e78f-27a0-497a-80d6-549f3938fac9",
   "metadata": {},
   "outputs": [],
   "source": []
  }
 ],
 "metadata": {
  "kernelspec": {
   "display_name": "Python 3 (ipykernel)",
   "language": "python",
   "name": "python3"
  },
  "language_info": {
   "codemirror_mode": {
    "name": "ipython",
    "version": 3
   },
   "file_extension": ".py",
   "mimetype": "text/x-python",
   "name": "python",
   "nbconvert_exporter": "python",
   "pygments_lexer": "ipython3",
   "version": "3.10.8"
  }
 },
 "nbformat": 4,
 "nbformat_minor": 5
}
