{
 "cells": [
  {
   "cell_type": "code",
   "execution_count": 17,
   "id": "21040a58-bf63-4742-999b-d35f9448bde3",
   "metadata": {},
   "outputs": [],
   "source": [
    "#Set and Inbuilt Method_Python"
   ]
  },
  {
   "cell_type": "code",
   "execution_count": 18,
   "id": "ec745fc8-4e7b-4be9-a59a-8aca3ba4c6dd",
   "metadata": {},
   "outputs": [
    {
     "name": "stdout",
     "output_type": "stream",
     "text": [
      "{1, 2, 3, 5}\n",
      "<class 'set'>\n"
     ]
    }
   ],
   "source": [
    "my_set = {1,2,3,5}\n",
    "print(my_set)\n",
    "print(type(my_set))"
   ]
  },
  {
   "cell_type": "code",
   "execution_count": 19,
   "id": "f7a64693-d0e7-42a7-b3f0-43a677772f47",
   "metadata": {},
   "outputs": [
    {
     "name": "stdout",
     "output_type": "stream",
     "text": [
      "{1, 2, 4, 5, 7, 9}\n"
     ]
    }
   ],
   "source": [
    "s1 = {1,4,5,2,1,9,7,4,1}\n",
    "print(s1)\n",
    "#set ensures that there are no duplicates"
   ]
  },
  {
   "cell_type": "code",
   "execution_count": 20,
   "id": "6e233646-2285-481d-93bd-186ff0e89804",
   "metadata": {},
   "outputs": [
    {
     "name": "stdout",
     "output_type": "stream",
     "text": [
      "set()\n"
     ]
    }
   ],
   "source": [
    "#create an empty set by set constructor method:\n",
    "s2 = set()\n",
    "print(s2)"
   ]
  },
  {
   "cell_type": "code",
   "execution_count": 21,
   "id": "61040d67-57f2-4434-a4bf-73b6294813a6",
   "metadata": {},
   "outputs": [
    {
     "name": "stdout",
     "output_type": "stream",
     "text": [
      "{5, 6, 7}\n"
     ]
    }
   ],
   "source": [
    "s3 = set({5,6,7})\n",
    "print(s3)"
   ]
  },
  {
   "cell_type": "code",
   "execution_count": 22,
   "id": "b1db6150-b9ce-4aa3-b732-d99bea5255df",
   "metadata": {},
   "outputs": [
    {
     "name": "stdout",
     "output_type": "stream",
     "text": [
      "{13, 12, 5}\n"
     ]
    }
   ],
   "source": [
    "s = set()\n",
    "s.add(5)\n",
    "s.add(13)\n",
    "s.add(5)\n",
    "s.add(12)\n",
    "print(s)"
   ]
  },
  {
   "cell_type": "code",
   "execution_count": 23,
   "id": "f29c9c59-1b22-4315-93e0-90a8d4e0bce9",
   "metadata": {},
   "outputs": [
    {
     "name": "stdout",
     "output_type": "stream",
     "text": [
      "None\n",
      "{9, 3, 4}\n"
     ]
    }
   ],
   "source": [
    "#Remove element from the set:\n",
    "s1 = {3,9,7,4}\n",
    "print(s1.discard(7)) #discard returns none\n",
    "print(s1)"
   ]
  },
  {
   "cell_type": "code",
   "execution_count": 24,
   "id": "f7078652-dfd3-4e7a-9efc-a9a12c1b3550",
   "metadata": {},
   "outputs": [
    {
     "ename": "KeyError",
     "evalue": "12",
     "output_type": "error",
     "traceback": [
      "\u001b[0;31m---------------------------------------------------------------------------\u001b[0m",
      "\u001b[0;31mKeyError\u001b[0m                                  Traceback (most recent call last)",
      "Cell \u001b[0;32mIn[24], line 1\u001b[0m\n\u001b[0;32m----> 1\u001b[0m \u001b[43ms1\u001b[49m\u001b[38;5;241;43m.\u001b[39;49m\u001b[43mremove\u001b[49m\u001b[43m(\u001b[49m\u001b[38;5;241;43m12\u001b[39;49m\u001b[43m)\u001b[49m\n\u001b[1;32m      2\u001b[0m \u001b[38;5;66;03m#12 is not present in s1 set\u001b[39;00m\n\u001b[1;32m      3\u001b[0m \u001b[38;5;28mprint\u001b[39m(s1)\n",
      "\u001b[0;31mKeyError\u001b[0m: 12"
     ]
    }
   ],
   "source": [
    "s1.remove(12)\n",
    "#12 is not present in s1 set\n",
    "print(s1)\n",
    "#shows key error"
   ]
  },
  {
   "cell_type": "code",
   "execution_count": 25,
   "id": "b6383784-a5b2-48f1-b9f4-afdf65443b7f",
   "metadata": {},
   "outputs": [
    {
     "name": "stdout",
     "output_type": "stream",
     "text": [
      "frozenset({1, 2, 3})\n",
      "<class 'frozenset'>\n"
     ]
    }
   ],
   "source": [
    "#Frozen set: Immutable set\n",
    "#You can make frozen set from another list and from another set\n",
    "fs = frozenset([1,2,3])\n",
    "print(fs)\n",
    "print(type(fs))"
   ]
  },
  {
   "cell_type": "code",
   "execution_count": 26,
   "id": "dd491aa9-6e7d-46ed-b724-ffa782c81090",
   "metadata": {},
   "outputs": [
    {
     "name": "stdout",
     "output_type": "stream",
     "text": [
      "frozenset({1, 2, 3})\n"
     ]
    }
   ],
   "source": [
    "fs2 = frozenset({1,2,3})\n",
    "print(fs2)"
   ]
  },
  {
   "cell_type": "code",
   "execution_count": null,
   "id": "5bdcfc94-5b55-4386-9092-037408dd50c6",
   "metadata": {},
   "outputs": [],
   "source": []
  }
 ],
 "metadata": {
  "kernelspec": {
   "display_name": "Python 3 (ipykernel)",
   "language": "python",
   "name": "python3"
  },
  "language_info": {
   "codemirror_mode": {
    "name": "ipython",
    "version": 3
   },
   "file_extension": ".py",
   "mimetype": "text/x-python",
   "name": "python",
   "nbconvert_exporter": "python",
   "pygments_lexer": "ipython3",
   "version": "3.10.8"
  }
 },
 "nbformat": 4,
 "nbformat_minor": 5
}
