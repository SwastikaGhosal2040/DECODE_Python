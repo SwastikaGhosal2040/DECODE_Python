{
  "nbformat": 4,
  "nbformat_minor": 0,
  "metadata": {
    "colab": {
      "provenance": [],
      "authorship_tag": "ABX9TyMS1v4e0iH4hxhG/wOtpS2o",
      "include_colab_link": true
    },
    "kernelspec": {
      "name": "python3",
      "display_name": "Python 3"
    },
    "language_info": {
      "name": "python"
    }
  },
  "cells": [
    {
      "cell_type": "markdown",
      "metadata": {
        "id": "view-in-github",
        "colab_type": "text"
      },
      "source": [
        "<a href=\"https://colab.research.google.com/github/SwastikaGhosal2040/DECODE_Python/blob/main/Module12_OOPS.ipynb\" target=\"_parent\"><img src=\"https://colab.research.google.com/assets/colab-badge.svg\" alt=\"Open In Colab\"/></a>"
      ]
    },
    {
      "cell_type": "code",
      "execution_count": 1,
      "metadata": {
        "colab": {
          "base_uri": "https://localhost:8080/"
        },
        "id": "bsVvpiDlVvtT",
        "outputId": "6aca5766-434d-4cdc-e0c8-1d7e7ed775eb"
      },
      "outputs": [
        {
          "output_type": "stream",
          "name": "stdout",
          "text": [
            "<class '__main__.Person'>\n"
          ]
        }
      ],
      "source": [
        "#Classes And Object:\n",
        "\n",
        "class Person:\n",
        "  pass\n",
        "\n",
        "obj = Person()\n",
        "\n",
        "print(type(obj))"
      ]
    },
    {
      "cell_type": "code",
      "source": [],
      "metadata": {
        "id": "H93e4vmuWYn7"
      },
      "execution_count": null,
      "outputs": []
    }
  ]
}