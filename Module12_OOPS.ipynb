{
  "nbformat": 4,
  "nbformat_minor": 0,
  "metadata": {
    "colab": {
      "provenance": [],
      "authorship_tag": "ABX9TyOi2jbG18F01sp222YvZ5FW",
      "include_colab_link": true
    },
    "kernelspec": {
      "name": "python3",
      "display_name": "Python 3"
    },
    "language_info": {
      "name": "python"
    }
  },
  "cells": [
    {
      "cell_type": "markdown",
      "metadata": {
        "id": "view-in-github",
        "colab_type": "text"
      },
      "source": [
        "<a href=\"https://colab.research.google.com/github/SwastikaGhosal2040/DECODE_Python/blob/main/Module12_OOPS.ipynb\" target=\"_parent\"><img src=\"https://colab.research.google.com/assets/colab-badge.svg\" alt=\"Open In Colab\"/></a>"
      ]
    },
    {
      "cell_type": "code",
      "execution_count": null,
      "metadata": {
        "colab": {
          "base_uri": "https://localhost:8080/"
        },
        "id": "bsVvpiDlVvtT",
        "outputId": "cdfca1a7-bdce-4b7d-e414-fbc63b936775"
      },
      "outputs": [
        {
          "output_type": "stream",
          "name": "stdout",
          "text": [
            "<class '__main__.Person'>\n",
            "<__main__.Person object at 0x7809477977c0>\n"
          ]
        }
      ],
      "source": [
        "#Classes And Object:\n",
        "\n",
        "class Person:\n",
        "  pass\n",
        "\n",
        "obj = Person()\n",
        "\n",
        "print(type(obj))\n",
        "print(obj) #This prints the address of the object"
      ]
    },
    {
      "cell_type": "code",
      "source": [
        "class Person :\n",
        "  name = \"Swastika\"\n",
        "  age = 99\n",
        "\n",
        "per = Person()\n",
        "\n",
        "print(per.name)\n",
        "print(per.age)"
      ],
      "metadata": {
        "id": "H93e4vmuWYn7",
        "outputId": "7f53b1af-f1d4-42d8-8954-89dad7693274",
        "colab": {
          "base_uri": "https://localhost:8080/"
        }
      },
      "execution_count": 6,
      "outputs": [
        {
          "output_type": "stream",
          "name": "stdout",
          "text": [
            "Swastika\n",
            "99\n"
          ]
        }
      ]
    },
    {
      "cell_type": "code",
      "source": [
        "per.hobby = \"Cricket\"\n",
        "per.loveName = \"Babu\"\n",
        "\n",
        "print(per.loveName)\n"
      ],
      "metadata": {
        "id": "_WGfS40AhUNm",
        "outputId": "bade541c-42aa-4ded-8d1f-3db127bd127f",
        "colab": {
          "base_uri": "https://localhost:8080/"
        }
      },
      "execution_count": 7,
      "outputs": [
        {
          "output_type": "stream",
          "name": "stdout",
          "text": [
            "Babu\n"
          ]
        }
      ]
    },
    {
      "cell_type": "code",
      "source": [
        "per.hobby = \"Cricket\"\n",
        "per.loveName = \"Babu\"\n",
        "\n",
        "print(per.loveName)\n",
        "\n",
        "obj = Person()\n",
        "print(obj.loveName)"
      ],
      "metadata": {
        "id": "S-Fy-VtKiaea",
        "outputId": "2d7581e6-139b-4495-826f-0fe5e081c81a",
        "colab": {
          "base_uri": "https://localhost:8080/",
          "height": 193
        }
      },
      "execution_count": 8,
      "outputs": [
        {
          "output_type": "stream",
          "name": "stdout",
          "text": [
            "Babu\n"
          ]
        },
        {
          "output_type": "error",
          "ename": "AttributeError",
          "evalue": "'Person' object has no attribute 'loveName'",
          "traceback": [
            "\u001b[0;31m---------------------------------------------------------------------------\u001b[0m",
            "\u001b[0;31mAttributeError\u001b[0m                            Traceback (most recent call last)",
            "\u001b[0;32m<ipython-input-8-b3da52eb49db>\u001b[0m in \u001b[0;36m<cell line: 7>\u001b[0;34m()\u001b[0m\n\u001b[1;32m      5\u001b[0m \u001b[0;34m\u001b[0m\u001b[0m\n\u001b[1;32m      6\u001b[0m \u001b[0mobj\u001b[0m \u001b[0;34m=\u001b[0m \u001b[0mPerson\u001b[0m\u001b[0;34m(\u001b[0m\u001b[0;34m)\u001b[0m\u001b[0;34m\u001b[0m\u001b[0;34m\u001b[0m\u001b[0m\n\u001b[0;32m----> 7\u001b[0;31m \u001b[0mprint\u001b[0m\u001b[0;34m(\u001b[0m\u001b[0mobj\u001b[0m\u001b[0;34m.\u001b[0m\u001b[0mloveName\u001b[0m\u001b[0;34m)\u001b[0m\u001b[0;34m\u001b[0m\u001b[0;34m\u001b[0m\u001b[0m\n\u001b[0m",
            "\u001b[0;31mAttributeError\u001b[0m: 'Person' object has no attribute 'loveName'"
          ]
        }
      ]
    }
  ]
}