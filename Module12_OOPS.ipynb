{
  "nbformat": 4,
  "nbformat_minor": 0,
  "metadata": {
    "colab": {
      "provenance": [],
      "authorship_tag": "ABX9TyNJU2DEIsc3f8yTixT9f552",
      "include_colab_link": true
    },
    "kernelspec": {
      "name": "python3",
      "display_name": "Python 3"
    },
    "language_info": {
      "name": "python"
    }
  },
  "cells": [
    {
      "cell_type": "markdown",
      "metadata": {
        "id": "view-in-github",
        "colab_type": "text"
      },
      "source": [
        "<a href=\"https://colab.research.google.com/github/SwastikaGhosal2040/DECODE_Python/blob/main/Module12_OOPS.ipynb\" target=\"_parent\"><img src=\"https://colab.research.google.com/assets/colab-badge.svg\" alt=\"Open In Colab\"/></a>"
      ]
    },
    {
      "cell_type": "code",
      "execution_count": 4,
      "metadata": {
        "colab": {
          "base_uri": "https://localhost:8080/"
        },
        "id": "bsVvpiDlVvtT",
        "outputId": "cdfca1a7-bdce-4b7d-e414-fbc63b936775"
      },
      "outputs": [
        {
          "output_type": "stream",
          "name": "stdout",
          "text": [
            "<class '__main__.Person'>\n",
            "<__main__.Person object at 0x7809477977c0>\n"
          ]
        }
      ],
      "source": [
        "#Classes And Object:\n",
        "\n",
        "class Person:\n",
        "  pass\n",
        "\n",
        "obj = Person()\n",
        "\n",
        "print(type(obj))\n",
        "print(obj) #This prints the address of the object"
      ]
    },
    {
      "cell_type": "code",
      "source": [
        "class Person :\n",
        "  name = \"Vishwa\"\n",
        "  age = 99\n",
        "\n",
        "per = Person()\n",
        "\n",
        "print(per.name)\n",
        "print(per.age)"
      ],
      "metadata": {
        "id": "H93e4vmuWYn7",
        "outputId": "667a92db-500f-4a8a-9166-b76309afd167",
        "colab": {
          "base_uri": "https://localhost:8080/"
        }
      },
      "execution_count": 5,
      "outputs": [
        {
          "output_type": "stream",
          "name": "stdout",
          "text": [
            "Vishwa\n",
            "99\n"
          ]
        }
      ]
    }
  ]
}