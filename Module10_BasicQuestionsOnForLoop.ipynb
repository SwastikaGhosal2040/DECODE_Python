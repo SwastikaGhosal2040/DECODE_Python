{
  "nbformat": 4,
  "nbformat_minor": 0,
  "metadata": {
    "colab": {
      "provenance": [],
      "authorship_tag": "ABX9TyN4Mz9X3xPk14DpmV91mggZ",
      "include_colab_link": true
    },
    "kernelspec": {
      "name": "python3",
      "display_name": "Python 3"
    },
    "language_info": {
      "name": "python"
    }
  },
  "cells": [
    {
      "cell_type": "markdown",
      "metadata": {
        "id": "view-in-github",
        "colab_type": "text"
      },
      "source": [
        "<a href=\"https://colab.research.google.com/github/SwastikaGhosal2040/DECODE_Python/blob/main/Module10_BasicQuestionsOnForLoop.ipynb\" target=\"_parent\"><img src=\"https://colab.research.google.com/assets/colab-badge.svg\" alt=\"Open In Colab\"/></a>"
      ]
    },
    {
      "cell_type": "code",
      "execution_count": 1,
      "metadata": {
        "id": "h9addI0c3bSp"
      },
      "outputs": [],
      "source": [
        "#Write a Python program to print the sum of all even numbers between 1 to 20 using a for loop"
      ]
    },
    {
      "cell_type": "code",
      "source": [
        "sum=0\n",
        "for num in range(1,21):\n",
        "    if num%2==0:\n",
        "        sum+=num\n",
        "print(\"Sum of even numbers are : \",sum)\n",
        ""
      ],
      "metadata": {
        "colab": {
          "base_uri": "https://localhost:8080/"
        },
        "id": "5FHICsqn3x12",
        "outputId": "ba70e69f-5f21-4187-f4b3-972a58c7db3f"
      },
      "execution_count": 2,
      "outputs": [
        {
          "output_type": "stream",
          "name": "stdout",
          "text": [
            "Sum of even numbers are :  110\n"
          ]
        }
      ]
    },
    {
      "cell_type": "code",
      "source": [
        "#Write a Python program to count the number of vowels in a given string"
      ],
      "metadata": {
        "id": "-Bk77jhd4K7m"
      },
      "execution_count": 3,
      "outputs": []
    },
    {
      "cell_type": "code",
      "source": [
        "str=input(\"Please provide the string : \")\n",
        "count=0\n",
        "for ch in str:\n",
        "    #check if ch is a vowel or not:\n",
        "    if ch.lower() in ['a','e','i','o','u']:\n",
        "        count+=1\n",
        "print(\"Total count of vowel is : \",count)"
      ],
      "metadata": {
        "colab": {
          "base_uri": "https://localhost:8080/"
        },
        "id": "o1Qe8KDt4V9V",
        "outputId": "9f91200f-0620-472d-dfaf-8957bd616beb"
      },
      "execution_count": 4,
      "outputs": [
        {
          "output_type": "stream",
          "name": "stdout",
          "text": [
            "Please provide the string : I am Swastika Ghosal\n",
            "Total count of vowel is :  7\n"
          ]
        }
      ]
    },
    {
      "cell_type": "code",
      "source": [],
      "metadata": {
        "id": "XsKJo2tq5DUn"
      },
      "execution_count": null,
      "outputs": []
    }
  ]
}