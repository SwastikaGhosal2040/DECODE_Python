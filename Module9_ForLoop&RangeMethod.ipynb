{
 "cells": [
  {
   "cell_type": "code",
   "execution_count": 1,
   "id": "347b0b4e-e596-4cf9-ae33-eb51b229bf20",
   "metadata": {},
   "outputs": [
    {
     "name": "stdout",
     "output_type": "stream",
     "text": [
      "apple\n",
      "banana\n",
      "cherry\n",
      "date\n",
      "elderberry\n"
     ]
    }
   ],
   "source": [
    "fruits = [\"apple\",\"banana\",\"cherry\",\"date\",\"elderberry\"]\n",
    "for fruit in fruits:\n",
    "    print(fruit)"
   ]
  },
  {
   "cell_type": "code",
   "execution_count": 2,
   "id": "4c13acc3-6743-4d06-9074-af45bc14b209",
   "metadata": {},
   "outputs": [
    {
     "name": "stdout",
     "output_type": "stream",
     "text": [
      "V i s h w a   M o h a n "
     ]
    }
   ],
   "source": [
    "name = \"Vishwa Mohan\"\n",
    "for ch in name:\n",
    "    print(ch,end=\" \")"
   ]
  },
  {
   "cell_type": "code",
   "execution_count": 3,
   "id": "e3a0d7e5-7677-411e-9629-f3f6162a1ec3",
   "metadata": {},
   "outputs": [],
   "source": [
    "#Without sequence you should write loop using range() function"
   ]
  },
  {
   "cell_type": "code",
   "execution_count": 4,
   "id": "bc289376-2492-4df3-8c0e-2d9ec3c866a6",
   "metadata": {},
   "outputs": [
    {
     "data": {
      "text/plain": [
       "range(0, 10)"
      ]
     },
     "execution_count": 4,
     "metadata": {},
     "output_type": "execute_result"
    }
   ],
   "source": [
    "range(10)"
   ]
  },
  {
   "cell_type": "code",
   "execution_count": 5,
   "id": "74ea4dc1-5142-45cb-91bd-f810979f6bca",
   "metadata": {},
   "outputs": [
    {
     "name": "stdout",
     "output_type": "stream",
     "text": [
      "0\n",
      "1\n",
      "2\n",
      "3\n",
      "4\n"
     ]
    }
   ],
   "source": [
    "for i in range(5):\n",
    "    print(i)"
   ]
  },
  {
   "cell_type": "code",
   "execution_count": 6,
   "id": "e70060db-3fda-4c56-b383-4e2f7e0539c6",
   "metadata": {},
   "outputs": [
    {
     "name": "stdout",
     "output_type": "stream",
     "text": [
      "2\n",
      "3\n",
      "4\n",
      "5\n",
      "6\n"
     ]
    }
   ],
   "source": [
    "for i in range(2,7):\n",
    "    print(i)"
   ]
  },
  {
   "cell_type": "code",
   "execution_count": 7,
   "id": "d3184354-b14c-4901-9559-0bf13c8feaac",
   "metadata": {},
   "outputs": [
    {
     "name": "stdout",
     "output_type": "stream",
     "text": [
      "2\n",
      "4\n",
      "6\n",
      "8\n"
     ]
    }
   ],
   "source": [
    "for i in range(2,10,2):\n",
    "    print(i)"
   ]
  },
  {
   "cell_type": "code",
   "execution_count": 8,
   "id": "c9f64c4b-9ab6-453c-89fc-55942bb9376a",
   "metadata": {},
   "outputs": [
    {
     "name": "stdout",
     "output_type": "stream",
     "text": [
      "2\n",
      "5\n",
      "8\n"
     ]
    }
   ],
   "source": [
    "for i in range(2,10,3):\n",
    "    print(i)"
   ]
  },
  {
   "cell_type": "code",
   "execution_count": 9,
   "id": "380a5a87-e1c1-4b99-a24c-1ce91b995a02",
   "metadata": {},
   "outputs": [],
   "source": [
    "#range(n) -> [0,1,2,.....,(n-1)]\n",
    "#range(a,b) -> [a,(a+1),(a+2),....(b-1)]\n",
    "#range(a,b,c) -> [a,(a+c),(a+2c),.....]"
   ]
  },
  {
   "cell_type": "code",
   "execution_count": 10,
   "id": "1b7fbb8e-59ba-4d55-8d86-af140b7ac6e5",
   "metadata": {},
   "outputs": [],
   "source": [
    "#Write a code :\n",
    "#If I want to print 10,9,8,7,...1 (Reverse order)"
   ]
  },
  {
   "cell_type": "code",
   "execution_count": 11,
   "id": "cc9c5ca2-595a-4eba-bdf6-bf8edd9bc9c8",
   "metadata": {},
   "outputs": [
    {
     "name": "stdout",
     "output_type": "stream",
     "text": [
      "10\n",
      "9\n",
      "8\n",
      "7\n",
      "6\n",
      "5\n",
      "4\n",
      "3\n",
      "2\n",
      "1\n"
     ]
    }
   ],
   "source": [
    "for i in range(10,0,-1):\n",
    "    print(i)"
   ]
  },
  {
   "cell_type": "code",
   "execution_count": 12,
   "id": "82945eba-9f0b-4cc3-8969-46e6b4155735",
   "metadata": {},
   "outputs": [],
   "source": [
    "#Assignment:\n",
    "#Can you print the number in order: 12,9,6,3"
   ]
  },
  {
   "cell_type": "code",
   "execution_count": 13,
   "id": "cab5bc25-8ce6-40a8-b8ad-19d5a3fc05f4",
   "metadata": {},
   "outputs": [
    {
     "name": "stdout",
     "output_type": "stream",
     "text": [
      "12\n",
      "9\n",
      "6\n",
      "3\n"
     ]
    }
   ],
   "source": [
    "for i in range(12,2,-3):\n",
    "    print(i)"
   ]
  },
  {
   "cell_type": "code",
   "execution_count": 14,
   "id": "928c5696-dd67-4b32-a553-d1787f964013",
   "metadata": {},
   "outputs": [
    {
     "name": "stdout",
     "output_type": "stream",
     "text": [
      "12\n",
      "9\n",
      "6\n",
      "3\n"
     ]
    }
   ],
   "source": [
    "#Another:\n",
    "for i in range(12,0,-3):\n",
    "    print(i)"
   ]
  },
  {
   "cell_type": "code",
   "execution_count": null,
   "id": "2b61a282-6bcd-43f0-89bd-f1de472b6022",
   "metadata": {},
   "outputs": [],
   "source": []
  }
 ],
 "metadata": {
  "kernelspec": {
   "display_name": "Python 3 (ipykernel)",
   "language": "python",
   "name": "python3"
  },
  "language_info": {
   "codemirror_mode": {
    "name": "ipython",
    "version": 3
   },
   "file_extension": ".py",
   "mimetype": "text/x-python",
   "name": "python",
   "nbconvert_exporter": "python",
   "pygments_lexer": "ipython3",
   "version": "3.10.8"
  }
 },
 "nbformat": 4,
 "nbformat_minor": 5
}
