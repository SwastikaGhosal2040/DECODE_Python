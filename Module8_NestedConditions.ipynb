{
 "cells": [
  {
   "cell_type": "code",
   "execution_count": 1,
   "id": "ed12bfc6-0cf0-4574-93dd-0a91548819d7",
   "metadata": {},
   "outputs": [
    {
     "name": "stdout",
     "output_type": "stream",
     "text": [
      "X is less than 5, so not calculating even or odd \n"
     ]
    }
   ],
   "source": [
    "#Nested Conditions\n",
    "\n",
    "x = 4\n",
    "\n",
    "if x>5:\n",
    "    print(\"X is greater than 5\")\n",
    "    if x%2==0:\n",
    "        print(\"X is also even\")\n",
    "    else:\n",
    "        print(\"X is odd\")\n",
    "else:\n",
    "    print(\"X is less than 5, so not calculating even or odd \")"
   ]
  },
  {
   "cell_type": "code",
   "execution_count": 1,
   "id": "20646358-e9f0-4239-8550-520e12e53858",
   "metadata": {},
   "outputs": [
    {
     "name": "stdout",
     "output_type": "stream",
     "text": [
      "X is greater than 5\n",
      "X is odd\n"
     ]
    }
   ],
   "source": [
    "#Nested Conditions\n",
    "\n",
    "x = 19\n",
    "\n",
    "if x>5:\n",
    "    print(\"X is greater than 5\")\n",
    "    if x%2==0:\n",
    "        print(\"X is also even\")\n",
    "    else:\n",
    "        print(\"X is odd\")\n",
    "else:\n",
    "    print(\"X is less than 5, so not calculating even or odd \")"
   ]
  },
  {
   "cell_type": "code",
   "execution_count": null,
   "id": "ccf50e52",
   "metadata": {},
   "outputs": [],
   "source": []
  }
 ],
 "metadata": {
  "kernelspec": {
   "display_name": "Python 3 (ipykernel)",
   "language": "python",
   "name": "python3"
  },
  "language_info": {
   "codemirror_mode": {
    "name": "ipython",
    "version": 3
   },
   "file_extension": ".py",
   "mimetype": "text/x-python",
   "name": "python",
   "nbconvert_exporter": "python",
   "pygments_lexer": "ipython3",
   "version": "3.11.9"
  }
 },
 "nbformat": 4,
 "nbformat_minor": 5
}
