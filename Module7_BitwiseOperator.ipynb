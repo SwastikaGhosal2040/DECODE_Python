{
 "cells": [
  {
   "cell_type": "code",
   "execution_count": 1,
   "id": "22084915-4295-4bec-ac04-496d69652a19",
   "metadata": {},
   "outputs": [
    {
     "name": "stdout",
     "output_type": "stream",
     "text": [
      "1\n"
     ]
    }
   ],
   "source": [
    "num1 = 5\n",
    "num2 = 3\n",
    "print(num1 & num2)"
   ]
  },
  {
   "cell_type": "code",
   "execution_count": 2,
   "id": "b6160641-4098-4faf-bfdd-3a887acbbe76",
   "metadata": {},
   "outputs": [
    {
     "name": "stdout",
     "output_type": "stream",
     "text": [
      "7\n"
     ]
    }
   ],
   "source": [
    "print(num1 | num2)"
   ]
  },
  {
   "cell_type": "code",
   "execution_count": 3,
   "id": "1bbcbd70-deca-4ae8-91db-93005f732807",
   "metadata": {},
   "outputs": [
    {
     "name": "stdout",
     "output_type": "stream",
     "text": [
      "0.0\n"
     ]
    }
   ],
   "source": [
    "print(1 - 4*0.25)"
   ]
  },
  {
   "cell_type": "code",
   "execution_count": 4,
   "id": "9d94e582-6ab4-4499-8126-120b0f7f6243",
   "metadata": {},
   "outputs": [],
   "source": [
    "#The above returns 0 as 0.25 can be converted to binary properly"
   ]
  },
  {
   "cell_type": "code",
   "execution_count": 5,
   "id": "5772f5d5-9622-4861-8ee3-ce16a2967404",
   "metadata": {},
   "outputs": [
    {
     "name": "stdout",
     "output_type": "stream",
     "text": [
      "1.1102230246251565e-16\n"
     ]
    }
   ],
   "source": [
    "print(0.9 - 3*0.3)"
   ]
  },
  {
   "cell_type": "code",
   "execution_count": 1,
   "id": "fbd1a833-8f82-4090-a056-ed3b7758ed43",
   "metadata": {},
   "outputs": [],
   "source": [
    "#The above does not return 0 as 0.3 can not be exactly represented in binary "
   ]
  },
  {
   "cell_type": "code",
   "execution_count": null,
   "id": "888bc0b4",
   "metadata": {},
   "outputs": [],
   "source": []
  }
 ],
 "metadata": {
  "kernelspec": {
   "display_name": "Python 3 (ipykernel)",
   "language": "python",
   "name": "python3"
  },
  "language_info": {
   "codemirror_mode": {
    "name": "ipython",
    "version": 3
   },
   "file_extension": ".py",
   "mimetype": "text/x-python",
   "name": "python",
   "nbconvert_exporter": "python",
   "pygments_lexer": "ipython3",
   "version": "3.11.9"
  }
 },
 "nbformat": 4,
 "nbformat_minor": 5
}
