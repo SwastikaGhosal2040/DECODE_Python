{
 "cells": [
  {
   "cell_type": "code",
   "execution_count": 1,
   "id": "4b867283-721a-473f-ba1d-f506c4ca064d",
   "metadata": {},
   "outputs": [
    {
     "name": "stdout",
     "output_type": "stream",
     "text": [
      "(3, 6, 1, 9, 10)\n",
      "<class 'tuple'>\n"
     ]
    }
   ],
   "source": [
    "#Tuple\n",
    "#Tuples can be made by 2 methods:\n",
    "#i)Making tuple using normal brackets\n",
    "#ii)Constructor method\n",
    "\n",
    "#Type1: Making tuple using normal brackets\n",
    "tup1 = (3,6,1,9,10)\n",
    "print(tup1)\n",
    "print(type(tup1))"
   ]
  },
  {
   "cell_type": "code",
   "execution_count": 2,
   "id": "7b80d9a2-7983-471f-80a2-d3ce5a70b304",
   "metadata": {},
   "outputs": [
    {
     "name": "stdout",
     "output_type": "stream",
     "text": [
      "(1, 2, 4)\n"
     ]
    }
   ],
   "source": [
    "#Type2:Constructor method\n",
    "#You can make tuple from another list or string or\n",
    "#tuple just by using tuple() constructor.\n",
    "\n",
    "t1 = tuple([1,2,4])\n",
    "#Making tuple from list\n",
    "print(t1)"
   ]
  },
  {
   "cell_type": "code",
   "execution_count": 3,
   "id": "e172e132-c9f3-4091-a01e-45ac573e3024",
   "metadata": {},
   "outputs": [
    {
     "name": "stdout",
     "output_type": "stream",
     "text": [
      "('V', 'i', 's', 'h', 'w', 'a') (3, 6, 1, 9, 10)\n"
     ]
    }
   ],
   "source": [
    "t2 = tuple(\"Vishwa\")\n",
    "t3 = tuple(tup1)\n",
    "print(t2,t3)"
   ]
  },
  {
   "cell_type": "code",
   "execution_count": 4,
   "id": "97f2e4b3-e0c9-4c4c-8b84-fe2d64ef4a53",
   "metadata": {},
   "outputs": [
    {
     "name": "stdout",
     "output_type": "stream",
     "text": [
      "<class 'int'>\n"
     ]
    }
   ],
   "source": [
    "#Suppose I have to make tuple by 1 element\n",
    "t = (35)\n",
    "print(type(t))"
   ]
  },
  {
   "cell_type": "code",
   "execution_count": 5,
   "id": "8c4c992f-8642-461e-b4a3-5865124457d8",
   "metadata": {},
   "outputs": [
    {
     "name": "stdout",
     "output_type": "stream",
     "text": [
      "<class 'tuple'>\n"
     ]
    }
   ],
   "source": [
    "#This will be considered as an integer because if you want to make a tuple with 1 element,\n",
    "#then you have to put a comma(,) after the 1st element.\n",
    "\n",
    "t = (35,)\n",
    "print(type(t))"
   ]
  },
  {
   "cell_type": "code",
   "execution_count": 6,
   "id": "dd99af8e-d33f-47cc-8cb9-e645f7118ef2",
   "metadata": {},
   "outputs": [
    {
     "name": "stdout",
     "output_type": "stream",
     "text": [
      "3\n"
     ]
    }
   ],
   "source": [
    "fruits = ('apple','mango','banana','apple','mango','apple','strawberry')\n",
    "print(fruits.count('apple'))"
   ]
  },
  {
   "cell_type": "code",
   "execution_count": 7,
   "id": "3cf456c7-d54e-4b9b-a344-330c1ac328d5",
   "metadata": {},
   "outputs": [
    {
     "name": "stdout",
     "output_type": "stream",
     "text": [
      "0\n"
     ]
    }
   ],
   "source": [
    "fruits = ('apple','mango','banana','apple','mango','apple','strawberry')\n",
    "print(fruits.count('jackfruit'))"
   ]
  },
  {
   "cell_type": "code",
   "execution_count": 8,
   "id": "d343d2ec-0fc3-43f5-9239-c435cd6aaea7",
   "metadata": {},
   "outputs": [
    {
     "ename": "ValueError",
     "evalue": "tuple.index(x): x not in tuple",
     "output_type": "error",
     "traceback": [
      "\u001b[0;31m---------------------------------------------------------------------------\u001b[0m",
      "\u001b[0;31mValueError\u001b[0m                                Traceback (most recent call last)",
      "Cell \u001b[0;32mIn[8], line 1\u001b[0m\n\u001b[0;32m----> 1\u001b[0m \u001b[38;5;28mprint\u001b[39m(\u001b[43mfruits\u001b[49m\u001b[38;5;241;43m.\u001b[39;49m\u001b[43mindex\u001b[49m\u001b[43m(\u001b[49m\u001b[38;5;124;43m'\u001b[39;49m\u001b[38;5;124;43mjackfruit\u001b[39;49m\u001b[38;5;124;43m'\u001b[39;49m\u001b[43m)\u001b[49m)\n",
      "\u001b[0;31mValueError\u001b[0m: tuple.index(x): x not in tuple"
     ]
    }
   ],
   "source": [
    "print(fruits.index('jackfruit'))"
   ]
  },
  {
   "cell_type": "code",
   "execution_count": 9,
   "id": "6091da12-8767-4a30-99cf-793cd34e9faa",
   "metadata": {},
   "outputs": [
    {
     "name": "stdout",
     "output_type": "stream",
     "text": [
      "1\n"
     ]
    }
   ],
   "source": [
    "print(fruits.index('mango'))"
   ]
  },
  {
   "cell_type": "code",
   "execution_count": 10,
   "id": "0459a007-a24c-46b5-aed4-1602644fd1fb",
   "metadata": {},
   "outputs": [
    {
     "name": "stdout",
     "output_type": "stream",
     "text": [
      "7\n"
     ]
    }
   ],
   "source": [
    "print(len(fruits))"
   ]
  },
  {
   "cell_type": "code",
   "execution_count": 11,
   "id": "5774c1d1-1183-4872-b7c3-38ccf6423b0f",
   "metadata": {},
   "outputs": [
    {
     "name": "stdout",
     "output_type": "stream",
     "text": [
      "apple\n",
      "mango\n"
     ]
    }
   ],
   "source": [
    "#How to access the elements of a Tuple:\n",
    "fruits = ('apple','mango','banana','apple','mango','apple','strawberry')\n",
    "print(fruits[3])\n",
    "print(fruits[-3])"
   ]
  },
  {
   "cell_type": "code",
   "execution_count": 12,
   "id": "92ba9723-2498-4f3d-bf46-44344e01e929",
   "metadata": {},
   "outputs": [
    {
     "ename": "TypeError",
     "evalue": "'tuple' object does not support item assignment",
     "output_type": "error",
     "traceback": [
      "\u001b[0;31m---------------------------------------------------------------------------\u001b[0m",
      "\u001b[0;31mTypeError\u001b[0m                                 Traceback (most recent call last)",
      "Cell \u001b[0;32mIn[12], line 1\u001b[0m\n\u001b[0;32m----> 1\u001b[0m \u001b[43mfruits\u001b[49m\u001b[43m[\u001b[49m\u001b[38;5;241;43m3\u001b[39;49m\u001b[43m]\u001b[49m \u001b[38;5;241m=\u001b[39m \u001b[38;5;124m'\u001b[39m\u001b[38;5;124mJackfruit\u001b[39m\u001b[38;5;124m'\u001b[39m\n\u001b[1;32m      2\u001b[0m \u001b[38;5;28mprint\u001b[39m(fruits)\n\u001b[1;32m      3\u001b[0m \u001b[38;5;66;03m#Shows TypeError as tuple is immutable\u001b[39;00m\n",
      "\u001b[0;31mTypeError\u001b[0m: 'tuple' object does not support item assignment"
     ]
    }
   ],
   "source": [
    "fruits[3] = 'Jackfruit'\n",
    "print(fruits)\n",
    "#Shows TypeError as tuple is immutable"
   ]
  },
  {
   "cell_type": "code",
   "execution_count": 13,
   "id": "b3c0ca79-815a-4651-9b1c-1292dca08db0",
   "metadata": {},
   "outputs": [
    {
     "name": "stdout",
     "output_type": "stream",
     "text": [
      "('banana', 'apple', 'mango', 'apple', 'strawberry')\n"
     ]
    }
   ],
   "source": [
    "fruits = ('apple','mango','banana','apple','mango','apple','strawberry')\n",
    "print(fruits[2:7])\n",
    "#It will print all the elements from index 2 to index 6"
   ]
  },
  {
   "cell_type": "code",
   "execution_count": null,
   "id": "b2bf5d76-d514-4b99-b199-1ec8c51eb924",
   "metadata": {},
   "outputs": [],
   "source": []
  }
 ],
 "metadata": {
  "kernelspec": {
   "display_name": "Python 3 (ipykernel)",
   "language": "python",
   "name": "python3"
  },
  "language_info": {
   "codemirror_mode": {
    "name": "ipython",
    "version": 3
   },
   "file_extension": ".py",
   "mimetype": "text/x-python",
   "name": "python",
   "nbconvert_exporter": "python",
   "pygments_lexer": "ipython3",
   "version": "3.10.8"
  }
 },
 "nbformat": 4,
 "nbformat_minor": 5
}
