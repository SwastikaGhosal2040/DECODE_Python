{
 "cells": [
  {
   "cell_type": "code",
   "execution_count": 1,
   "id": "4abac226-9eba-4577-9711-7306873c3483",
   "metadata": {},
   "outputs": [],
   "source": [
    "#Dictionary\n",
    "#It stores data in the form of a (key, value) pair\n",
    "#unordered\n",
    "#mutable\n",
    "#key has to be unique\n",
    "#Heterogeneous data"
   ]
  },
  {
   "cell_type": "code",
   "execution_count": 2,
   "id": "e5e45217-2f98-413c-b47a-effcef56c650",
   "metadata": {},
   "outputs": [
    {
     "name": "stdout",
     "output_type": "stream",
     "text": [
      "{'name': 'Vishwa', 'age': 21, 'city': 'Bangalore'}\n",
      "<class 'dict'>\n"
     ]
    }
   ],
   "source": [
    "students_details = {'name':'Vishwa','age':21,'city':'Bangalore'}\n",
    "print(students_details)\n",
    "print(type(students_details))"
   ]
  },
  {
   "cell_type": "code",
   "execution_count": 3,
   "id": "aaa3eafa-43f4-4a48-8e56-72e78fcb79e1",
   "metadata": {},
   "outputs": [
    {
     "name": "stdout",
     "output_type": "stream",
     "text": [
      "{1: 'Love', 2: 'Mohan'}\n"
     ]
    }
   ],
   "source": [
    "#Method 1 of making dictionary\n",
    "dict1 = {1:\"Vishwa\",2:\"Mohan\",True:\"Love\"}\n",
    "print(dict1)"
   ]
  },
  {
   "cell_type": "code",
   "execution_count": 4,
   "id": "4cf0bdd6-9e61-4b26-a44b-71b0d2ffa08a",
   "metadata": {},
   "outputs": [],
   "source": [
    "#In Python, 1 is considered to be True value.\n",
    "#1 and True are same thing\n",
    "#So in place of Vishwa, value is updated to Love"
   ]
  },
  {
   "cell_type": "code",
   "execution_count": 5,
   "id": "b89e0407-e380-4973-81b7-eb07d109efa5",
   "metadata": {},
   "outputs": [
    {
     "name": "stdout",
     "output_type": "stream",
     "text": [
      "{3: 'Vishwa', 2: 'Mohan', True: 'Love'}\n"
     ]
    }
   ],
   "source": [
    "dict1 = {3:\"Vishwa\",2:\"Mohan\",True:\"Love\"}\n",
    "print(dict1)"
   ]
  },
  {
   "cell_type": "code",
   "execution_count": 6,
   "id": "e02d69db-16ff-45d5-9658-525435611cd6",
   "metadata": {},
   "outputs": [
    {
     "name": "stdout",
     "output_type": "stream",
     "text": [
      "{'name': 'Vishwa', 'age': 'Mohan'}\n",
      "<class 'dict'>\n"
     ]
    }
   ],
   "source": [
    "#Method 2 of making dictionary:\n",
    "#Dictionary constructor method: dict()\n",
    "dict1 = dict(name = \"Vishwa\", age = \"Mohan\")\n",
    "print(dict1)\n",
    "print(type(dict1))"
   ]
  },
  {
   "cell_type": "code",
   "execution_count": 7,
   "id": "16189fdd-ba82-447d-8f68-5a0b51dae0cc",
   "metadata": {},
   "outputs": [
    {
     "ename": "SyntaxError",
     "evalue": "cannot assign to True (1998465956.py, line 1)",
     "output_type": "error",
     "traceback": [
      "\u001b[0;36m  Cell \u001b[0;32mIn[7], line 1\u001b[0;36m\u001b[0m\n\u001b[0;31m    dict1 = dict(name = \"Vishwa\", age = \"Mohan\", True = \"Love\")\u001b[0m\n\u001b[0m                                                 ^\u001b[0m\n\u001b[0;31mSyntaxError\u001b[0m\u001b[0;31m:\u001b[0m cannot assign to True\n"
     ]
    }
   ],
   "source": [
    "dict1 = dict(name = \"Vishwa\", age = \"Mohan\", True = \"Love\")\n",
    "#Syntax Error: can't use 'True' keyword as the name of a variable"
   ]
  },
  {
   "cell_type": "code",
   "execution_count": 8,
   "id": "0a8ca887-0d9e-47be-ab6d-60f31da16840",
   "metadata": {},
   "outputs": [
    {
     "name": "stdout",
     "output_type": "stream",
     "text": [
      "Vishwa\n"
     ]
    }
   ],
   "source": [
    "#Access the elements of the dictionary:\n",
    "students_details = {'name':'Vishwa','age':21,'city':'Bangalore'}\n",
    "print(students_details['name'])"
   ]
  },
  {
   "cell_type": "code",
   "execution_count": 9,
   "id": "b5580ac9-a232-474c-b544-eff13e412f8d",
   "metadata": {},
   "outputs": [
    {
     "name": "stdout",
     "output_type": "stream",
     "text": [
      "Bangalore\n"
     ]
    }
   ],
   "source": [
    "print(students_details['city'])"
   ]
  },
  {
   "cell_type": "code",
   "execution_count": 10,
   "id": "c0c12150-cff1-4366-8ae8-d43c72c97be3",
   "metadata": {},
   "outputs": [
    {
     "name": "stdout",
     "output_type": "stream",
     "text": [
      "dict_keys(['name', 'age', 'city'])\n",
      "dict_values(['Vishwa', 21, 'Bangalore'])\n",
      "dict_items([('name', 'Vishwa'), ('age', 21), ('city', 'Bangalore')])\n"
     ]
    }
   ],
   "source": [
    "students_details = {'name':'Vishwa','age':21,'city':'Bangalore'}\n",
    "print(students_details.keys())\n",
    "print(students_details.values())\n",
    "print(students_details.items())"
   ]
  },
  {
   "cell_type": "code",
   "execution_count": 11,
   "id": "2c307066-b4d8-4c3d-b4fe-c13922a1056a",
   "metadata": {},
   "outputs": [
    {
     "name": "stdout",
     "output_type": "stream",
     "text": [
      "{'name': 'Vishwa', 'age': 21, 'city': 'Bangalore', 'country': 'India'}\n"
     ]
    }
   ],
   "source": [
    "students_details = {'name':'Vishwa','age':21,'city':'Bangalore'}\n",
    "students_details['country'] = \"India\"\n",
    "print(students_details)"
   ]
  },
  {
   "cell_type": "code",
   "execution_count": 12,
   "id": "4946ae09-7671-481b-b904-f1fb8ac6019f",
   "metadata": {},
   "outputs": [
    {
     "name": "stdout",
     "output_type": "stream",
     "text": [
      "{'name': 'Vishwa', 'age': 21, 'city': 'Bangalore', 'English': 100, 'Maths': 78, 'Science': 92}\n"
     ]
    }
   ],
   "source": [
    "students_details = {'name':'Vishwa','age':21,'city':'Bangalore'}\n",
    "marks_details = {'English':100,'Maths':78,'Science':92}\n",
    "students_details.update(marks_details)\n",
    "print(students_details)"
   ]
  },
  {
   "cell_type": "code",
   "execution_count": 13,
   "id": "86ac0697-7b1d-431c-99d6-c9b709d54291",
   "metadata": {},
   "outputs": [
    {
     "name": "stdout",
     "output_type": "stream",
     "text": [
      "Bangalore\n",
      "{'name': 'Vishwa', 'age': 21, 'English': 100, 'Maths': 78, 'Science': 92}\n"
     ]
    }
   ],
   "source": [
    "print(students_details.pop('city'))\n",
    "print(students_details)"
   ]
  },
  {
   "cell_type": "code",
   "execution_count": 14,
   "id": "a4323c65-5195-4457-bd35-7f3676df45c5",
   "metadata": {},
   "outputs": [
    {
     "name": "stdout",
     "output_type": "stream",
     "text": [
      "('Science', 92)\n",
      "{'name': 'Vishwa', 'age': 21, 'English': 100, 'Maths': 78}\n"
     ]
    }
   ],
   "source": [
    "print(students_details.popitem())\n",
    "print(students_details)"
   ]
  },
  {
   "cell_type": "code",
   "execution_count": 15,
   "id": "29aa1722-8bf0-4a28-9ba8-c5077cd93831",
   "metadata": {},
   "outputs": [
    {
     "name": "stdout",
     "output_type": "stream",
     "text": [
      "{'name': 'Vishwa', 'English': 100, 'Maths': 78}\n"
     ]
    }
   ],
   "source": [
    "#Using delete key word\n",
    "del students_details['age']\n",
    "print(students_details)"
   ]
  },
  {
   "cell_type": "code",
   "execution_count": 16,
   "id": "0ea3bc4c-0542-4323-b6eb-88d8d6ae728a",
   "metadata": {},
   "outputs": [
    {
     "name": "stdout",
     "output_type": "stream",
     "text": [
      "{}\n"
     ]
    }
   ],
   "source": [
    "students_details.clear()\n",
    "print(students_details) #this prints an empty dictionary"
   ]
  },
  {
   "cell_type": "code",
   "execution_count": null,
   "id": "c972b9c4-eb3f-467d-b8e6-f933194ab91d",
   "metadata": {},
   "outputs": [],
   "source": []
  }
 ],
 "metadata": {
  "kernelspec": {
   "display_name": "Python 3 (ipykernel)",
   "language": "python",
   "name": "python3"
  },
  "language_info": {
   "codemirror_mode": {
    "name": "ipython",
    "version": 3
   },
   "file_extension": ".py",
   "mimetype": "text/x-python",
   "name": "python",
   "nbconvert_exporter": "python",
   "pygments_lexer": "ipython3",
   "version": "3.10.8"
  }
 },
 "nbformat": 4,
 "nbformat_minor": 5
}
