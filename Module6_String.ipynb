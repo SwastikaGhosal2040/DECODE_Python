{
 "cells": [
  {
   "cell_type": "code",
   "execution_count": 1,
   "id": "7f14b20d-70ed-47a0-82c4-42c038cd568d",
   "metadata": {},
   "outputs": [],
   "source": [
    "#Sequence Data Type (String)\n",
    "#String is basically a sequence of characters\n",
    "name = 'vishwa'\n",
    "city = \"Bangalore\"\n",
    "#single quote and double quote we use for single line strings\n",
    "country = '''India'''\n",
    "#Use triple quotes for multi line string"
   ]
  },
  {
   "cell_type": "code",
   "execution_count": 2,
   "id": "d56a2c8f-5291-49d4-80c0-b181b5595f22",
   "metadata": {},
   "outputs": [],
   "source": [
    "message = '''\n",
    "Hello my dear friends,\n",
    "this is my learning!\n",
    "'''"
   ]
  },
  {
   "cell_type": "code",
   "execution_count": 3,
   "id": "1df8f84f-9994-4d14-b859-bcb3abb2cf77",
   "metadata": {},
   "outputs": [
    {
     "name": "stdout",
     "output_type": "stream",
     "text": [
      "h\n",
      "12\n"
     ]
    }
   ],
   "source": [
    "name = \"Vishwa Mohan\"\n",
    "print(name[3])\n",
    "print(len(name))"
   ]
  },
  {
   "cell_type": "code",
   "execution_count": 4,
   "id": "8c00f85f-6cf4-4e7f-a331-d22460c39d86",
   "metadata": {},
   "outputs": [
    {
     "ename": "IndexError",
     "evalue": "string index out of range",
     "output_type": "error",
     "traceback": [
      "\u001b[0;31m---------------------------------------------------------------------------\u001b[0m",
      "\u001b[0;31mIndexError\u001b[0m                                Traceback (most recent call last)",
      "Cell \u001b[0;32mIn[4], line 1\u001b[0m\n\u001b[0;32m----> 1\u001b[0m \u001b[38;5;28mprint\u001b[39m(\u001b[43mname\u001b[49m\u001b[43m[\u001b[49m\u001b[38;5;241;43m12\u001b[39;49m\u001b[43m]\u001b[49m)\n\u001b[1;32m      2\u001b[0m \u001b[38;5;66;03m#index should be [length of the string - 1]\u001b[39;00m\n\u001b[1;32m      3\u001b[0m \u001b[38;5;66;03m#As length is 12 this shows index error\u001b[39;00m\n",
      "\u001b[0;31mIndexError\u001b[0m: string index out of range"
     ]
    }
   ],
   "source": [
    "print(name[12])\n",
    "#index should be [length of the string - 1]\n",
    "#As length is 12 this shows index error"
   ]
  },
  {
   "cell_type": "code",
   "execution_count": 5,
   "id": "10a469ed-86fa-4e24-a8be-81b9ab3c3a8a",
   "metadata": {},
   "outputs": [
    {
     "name": "stdout",
     "output_type": "stream",
     "text": [
      "n\n"
     ]
    }
   ],
   "source": [
    "print(name[-1])"
   ]
  },
  {
   "cell_type": "code",
   "execution_count": 6,
   "id": "955bdeee-18b9-40de-a395-b3ba3c977e3e",
   "metadata": {},
   "outputs": [
    {
     "name": "stdout",
     "output_type": "stream",
     "text": [
      "h\n"
     ]
    }
   ],
   "source": [
    "print(name[-3])"
   ]
  },
  {
   "cell_type": "code",
   "execution_count": 7,
   "id": "78c96788-e812-4b18-9674-d191c794cf90",
   "metadata": {},
   "outputs": [],
   "source": [
    "#In +ve case: [0,length-1]\n",
    "#In -ve case: [-length,-1]"
   ]
  },
  {
   "cell_type": "code",
   "execution_count": 8,
   "id": "23f48dcd-c44e-4a32-96c2-147b5e12bc44",
   "metadata": {},
   "outputs": [
    {
     "ename": "TypeError",
     "evalue": "'str' object does not support item assignment",
     "output_type": "error",
     "traceback": [
      "\u001b[0;31m---------------------------------------------------------------------------\u001b[0m",
      "\u001b[0;31mTypeError\u001b[0m                                 Traceback (most recent call last)",
      "Cell \u001b[0;32mIn[8], line 2\u001b[0m\n\u001b[1;32m      1\u001b[0m \u001b[38;5;28mstr\u001b[39m \u001b[38;5;241m=\u001b[39m \u001b[38;5;124m\"\u001b[39m\u001b[38;5;124mVishwa Mohan\u001b[39m\u001b[38;5;124m\"\u001b[39m\n\u001b[0;32m----> 2\u001b[0m \u001b[38;5;28;43mstr\u001b[39;49m\u001b[43m[\u001b[49m\u001b[38;5;241;43m0\u001b[39;49m\u001b[43m]\u001b[49m \u001b[38;5;241m=\u001b[39m \u001b[38;5;124m'\u001b[39m\u001b[38;5;124mX\u001b[39m\u001b[38;5;124m'\u001b[39m\n\u001b[1;32m      3\u001b[0m \u001b[38;5;66;03m#Shows Type Error as string is immutable, 'str' object does not support item assignment\u001b[39;00m\n",
      "\u001b[0;31mTypeError\u001b[0m: 'str' object does not support item assignment"
     ]
    }
   ],
   "source": [
    "str = \"Vishwa Mohan\"\n",
    "str[0] = 'X'\n",
    "#Shows Type Error as string is immutable, 'str' object does not support item assignment"
   ]
  },
  {
   "cell_type": "code",
   "execution_count": 9,
   "id": "2566ac8f-429b-41cb-a9eb-2754ff91f7a5",
   "metadata": {},
   "outputs": [
    {
     "name": "stdout",
     "output_type": "stream",
     "text": [
      "VishwaMohan\n"
     ]
    }
   ],
   "source": [
    "#concatenation:\n",
    "first_name = \"Vishwa\"\n",
    "last_name = \"Mohan\"\n",
    "complete_name = first_name + last_name\n",
    "#'+' sign is used for string concatenation\n",
    "print(complete_name)"
   ]
  },
  {
   "cell_type": "code",
   "execution_count": 10,
   "id": "a9381140-c5ad-4dce-9960-2b2ce1594d02",
   "metadata": {},
   "outputs": [
    {
     "name": "stdout",
     "output_type": "stream",
     "text": [
      "Vishwa Mohan\n"
     ]
    }
   ],
   "source": [
    "complete_name = first_name + \" \" + last_name\n",
    "print(complete_name)"
   ]
  },
  {
   "cell_type": "code",
   "execution_count": 11,
   "id": "eeef2f7f-8e81-4491-aaa5-2ad06efb2ab2",
   "metadata": {},
   "outputs": [],
   "source": [
    "#length of the string"
   ]
  },
  {
   "cell_type": "code",
   "execution_count": 12,
   "id": "c88c2b9a-8181-431f-9c78-69729066ec49",
   "metadata": {},
   "outputs": [
    {
     "name": "stdout",
     "output_type": "stream",
     "text": [
      "12\n"
     ]
    }
   ],
   "source": [
    "print(len(complete_name))"
   ]
  },
  {
   "cell_type": "code",
   "execution_count": 13,
   "id": "a81c7174-0224-4e67-8339-c95acb085dfe",
   "metadata": {},
   "outputs": [
    {
     "name": "stdout",
     "output_type": "stream",
     "text": [
      "shw\n"
     ]
    }
   ],
   "source": [
    "str = \"Vishwa Mohan\"\n",
    "print(str[2:5])"
   ]
  },
  {
   "cell_type": "code",
   "execution_count": 14,
   "id": "39c0dd3c-3347-487d-966c-6d89958bd8cb",
   "metadata": {},
   "outputs": [
    {
     "name": "stdout",
     "output_type": "stream",
     "text": [
      "shwa Mohan\n"
     ]
    }
   ],
   "source": [
    "str = \"Vishwa Mohan\"\n",
    "print(str[2: ])"
   ]
  },
  {
   "cell_type": "code",
   "execution_count": 15,
   "id": "17d6c069-899f-44ec-aab0-f753267262cf",
   "metadata": {},
   "outputs": [
    {
     "name": "stdout",
     "output_type": "stream",
     "text": [
      "Vishwa \n"
     ]
    }
   ],
   "source": [
    "#If you want to start from the beginning\n",
    "print(str[ : 7])\n",
    "#start from 0 index and will go upto 6th index( 7-1 = 6 )"
   ]
  },
  {
   "cell_type": "code",
   "execution_count": 16,
   "id": "cc26f8aa-21ee-4480-b7d2-d06dd9138a5e",
   "metadata": {},
   "outputs": [
    {
     "data": {
      "text/plain": [
       "'Vishwa Mohan'"
      ]
     },
     "execution_count": 16,
     "metadata": {},
     "output_type": "execute_result"
    }
   ],
   "source": [
    "str[ : ]\n",
    "#nothing is in the beginning and at the end\n",
    "#this is going to print me the entire string\n",
    "#It is started from 0 and it will go till end"
   ]
  },
  {
   "cell_type": "code",
   "execution_count": 17,
   "id": "e7ba2dd7-f0f4-461e-925c-0559dfb89303",
   "metadata": {},
   "outputs": [],
   "source": [
    "#Things to notice:\n",
    "#when the slicing condition is such that the whole string is printed, the output comes in single quote\n",
    "#When the slicing condition is such that a part of string is printed, the output does not come in quotes"
   ]
  },
  {
   "cell_type": "code",
   "execution_count": 18,
   "id": "a89b34ca-b8ad-4938-bffa-e99533b74d3b",
   "metadata": {},
   "outputs": [
    {
     "name": "stdout",
     "output_type": "stream",
     "text": [
      "hwa M\n"
     ]
    }
   ],
   "source": [
    "print(str[-9 : -4])\n",
    "#It will start from -9 index and go upto 1 index before -4, i.e. -5"
   ]
  },
  {
   "cell_type": "code",
   "execution_count": 19,
   "id": "b377eb7b-ec44-48f0-94ed-ff8e797ac415",
   "metadata": {},
   "outputs": [
    {
     "name": "stdout",
     "output_type": "stream",
     "text": [
      "hwa Mo\n"
     ]
    }
   ],
   "source": [
    "print(str[-9 : 9])\n",
    "#It will start from index -9 and go upto index 8"
   ]
  },
  {
   "cell_type": "code",
   "execution_count": 20,
   "id": "964869ba-64bc-41e9-ac90-1a94b6ae767b",
   "metadata": {},
   "outputs": [
    {
     "name": "stdout",
     "output_type": "stream",
     "text": [
      "VISHWA\n",
      "vishwa\n"
     ]
    }
   ],
   "source": [
    "str = \"Vishwa\"\n",
    "print(str.upper())\n",
    "print(str.lower())"
   ]
  },
  {
   "cell_type": "code",
   "execution_count": 21,
   "id": "8413e3d1-a053-453b-a472-5ec63a3c80a8",
   "metadata": {},
   "outputs": [
    {
     "name": "stdout",
     "output_type": "stream",
     "text": [
      "Vishwa\n"
     ]
    }
   ],
   "source": [
    "str = \"vIshwa\"\n",
    "print(str.capitalize())"
   ]
  },
  {
   "cell_type": "code",
   "execution_count": 22,
   "id": "22d384f1-dee6-4d31-9b56-c03ae565f5f1",
   "metadata": {},
   "outputs": [
    {
     "name": "stdout",
     "output_type": "stream",
     "text": [
      " VISHWA\n",
      " vishwa\n"
     ]
    }
   ],
   "source": [
    "str = \" vIshwa\"\n",
    "print(str.upper())\n",
    "print(str.lower())\n"
   ]
  },
  {
   "cell_type": "code",
   "execution_count": 23,
   "id": "3b8d79e7-9b6f-4bcf-bd61-4064d4db7c7d",
   "metadata": {},
   "outputs": [
    {
     "name": "stdout",
     "output_type": "stream",
     "text": [
      " vishwa\n"
     ]
    }
   ],
   "source": [
    "str = \" vIshwa\"\n",
    "print(str.capitalize())"
   ]
  },
  {
   "cell_type": "code",
   "execution_count": 24,
   "id": "2dfbeef4-fcf2-4361-bee6-25483a1d5655",
   "metadata": {},
   "outputs": [
    {
     "name": "stdout",
     "output_type": "stream",
     "text": [
      "vIshwa\n"
     ]
    }
   ],
   "source": [
    "str = \" vIshwa\"\n",
    "print(str.strip())"
   ]
  },
  {
   "cell_type": "code",
   "execution_count": 25,
   "id": "f32d2e47-82ca-49c1-863a-6d72cb8800f0",
   "metadata": {},
   "outputs": [
    {
     "name": "stdout",
     "output_type": "stream",
     "text": [
      "Hello dear, We are very good, We are very nice, We are wow\n"
     ]
    }
   ],
   "source": [
    "#replace method \n",
    "str = \"Hello dear, I am very good, I am very nice, I am wow\"\n",
    "print(str.replace(\"I am\",\"We are\"))"
   ]
  },
  {
   "cell_type": "code",
   "execution_count": 26,
   "id": "3469fefe-7d82-4782-93db-c8702962643f",
   "metadata": {},
   "outputs": [
    {
     "name": "stdout",
     "output_type": "stream",
     "text": [
      "Hello dear, We are very good, We are very nice, I am wow\n"
     ]
    }
   ],
   "source": [
    "print(str.replace(\"I am\",\"We are\",2))"
   ]
  },
  {
   "cell_type": "code",
   "execution_count": 27,
   "id": "2fc57fce-03e9-4a7a-92b2-759fea550074",
   "metadata": {},
   "outputs": [
    {
     "name": "stdout",
     "output_type": "stream",
     "text": [
      "Hello dear, We are very good, I am very nice, I am wow\n"
     ]
    }
   ],
   "source": [
    "print(str.replace(\"I am\",\"We are\",1))"
   ]
  },
  {
   "cell_type": "code",
   "execution_count": 28,
   "id": "9832265e-fab3-4bf0-9ff1-ff37ff22b7b5",
   "metadata": {},
   "outputs": [
    {
     "name": "stdout",
     "output_type": "stream",
     "text": [
      "Hello dear, I am very good, I am very nice, I am wow\n"
     ]
    }
   ],
   "source": [
    "print(str.replace(\"I am\",\"We are\",0))"
   ]
  },
  {
   "cell_type": "code",
   "execution_count": 29,
   "id": "5dd552a7-9ee9-421d-a719-c89cafe84490",
   "metadata": {},
   "outputs": [
    {
     "name": "stdout",
     "output_type": "stream",
     "text": [
      "Hello \n",
      " Swastika\n"
     ]
    }
   ],
   "source": [
    "#Escape character\n",
    "print(\"Hello \\n Swastika\")"
   ]
  },
  {
   "cell_type": "code",
   "execution_count": 30,
   "id": "e36017b4-6c07-4250-983d-3531e78e67ab",
   "metadata": {},
   "outputs": [
    {
     "name": "stdout",
     "output_type": "stream",
     "text": [
      "Swastika\tGhosal\n"
     ]
    }
   ],
   "source": [
    "print(\"Swastika\\tGhosal\")"
   ]
  },
  {
   "cell_type": "code",
   "execution_count": 31,
   "id": "8ff0b18c-1762-42c8-b110-389d1cf30a1a",
   "metadata": {},
   "outputs": [
    {
     "name": "stdout",
     "output_type": "stream",
     "text": [
      "Swastika\"Ghosal\"\n"
     ]
    }
   ],
   "source": [
    "print(\"Swastika\\\"Ghosal\\\"\")"
   ]
  },
  {
   "cell_type": "code",
   "execution_count": null,
   "id": "d033984a-8c99-44af-a057-f955aea138e4",
   "metadata": {},
   "outputs": [],
   "source": []
  }
 ],
 "metadata": {
  "kernelspec": {
   "display_name": "Python 3 (ipykernel)",
   "language": "python",
   "name": "python3"
  },
  "language_info": {
   "codemirror_mode": {
    "name": "ipython",
    "version": 3
   },
   "file_extension": ".py",
   "mimetype": "text/x-python",
   "name": "python",
   "nbconvert_exporter": "python",
   "pygments_lexer": "ipython3",
   "version": "3.10.8"
  }
 },
 "nbformat": 4,
 "nbformat_minor": 5
}
