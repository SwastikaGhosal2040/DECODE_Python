{
 "cells": [
  {
   "cell_type": "code",
   "execution_count": 1,
   "id": "7e9baced-efd3-417a-968d-798a23bad883",
   "metadata": {},
   "outputs": [],
   "source": [
    "#Boolean data type is a thing which can result either of the two things\n",
    "#i)True  ii)False"
   ]
  },
  {
   "cell_type": "code",
   "execution_count": 2,
   "id": "8487c3d8-5962-462b-8745-b5b7a50889c0",
   "metadata": {},
   "outputs": [
    {
     "name": "stdout",
     "output_type": "stream",
     "text": [
      "True\n",
      "False\n"
     ]
    }
   ],
   "source": [
    "print(True)\n",
    "print(False)"
   ]
  },
  {
   "cell_type": "code",
   "execution_count": null,
   "id": "c3335142-6678-4ea0-a639-5dd3e42c6199",
   "metadata": {},
   "outputs": [],
   "source": []
  }
 ],
 "metadata": {
  "kernelspec": {
   "display_name": "Python 3 (ipykernel)",
   "language": "python",
   "name": "python3"
  },
  "language_info": {
   "codemirror_mode": {
    "name": "ipython",
    "version": 3
   },
   "file_extension": ".py",
   "mimetype": "text/x-python",
   "name": "python",
   "nbconvert_exporter": "python",
   "pygments_lexer": "ipython3",
   "version": "3.10.8"
  }
 },
 "nbformat": 4,
 "nbformat_minor": 5
}
