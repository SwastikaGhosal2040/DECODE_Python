{
  "nbformat": 4,
  "nbformat_minor": 0,
  "metadata": {
    "colab": {
      "provenance": [],
      "authorship_tag": "ABX9TyNy7HZJTG1RjorYqlxB8Z6x",
      "include_colab_link": true
    },
    "kernelspec": {
      "name": "python3",
      "display_name": "Python 3"
    },
    "language_info": {
      "name": "python"
    }
  },
  "cells": [
    {
      "cell_type": "markdown",
      "metadata": {
        "id": "view-in-github",
        "colab_type": "text"
      },
      "source": [
        "<a href=\"https://colab.research.google.com/github/SwastikaGhosal2040/DECODE_Python/blob/main/Module11_Python_Functions.ipynb\" target=\"_parent\"><img src=\"https://colab.research.google.com/assets/colab-badge.svg\" alt=\"Open In Colab\"/></a>"
      ]
    },
    {
      "cell_type": "code",
      "execution_count": 1,
      "metadata": {
        "id": "IRSYdpFI82vQ"
      },
      "outputs": [],
      "source": [
        "def firstFunction():\n",
        "    print(\"Hello Students\")"
      ]
    },
    {
      "cell_type": "code",
      "source": [
        "firstFunction()"
      ],
      "metadata": {
        "colab": {
          "base_uri": "https://localhost:8080/"
        },
        "id": "fJ7NUL6-9PF1",
        "outputId": "f667ac30-f785-4aa3-b136-46812d83b78b"
      },
      "execution_count": 2,
      "outputs": [
        {
          "output_type": "stream",
          "name": "stdout",
          "text": [
            "Hello Students\n"
          ]
        }
      ]
    },
    {
      "cell_type": "code",
      "source": [
        "def add(a,b):\n",
        "  sum=a+b\n",
        "  return sum\n",
        "\n"
      ],
      "metadata": {
        "id": "SB-Sfp7y9WEy"
      },
      "execution_count": 3,
      "outputs": []
    },
    {
      "cell_type": "code",
      "source": [
        "add(10,20)"
      ],
      "metadata": {
        "colab": {
          "base_uri": "https://localhost:8080/"
        },
        "id": "nRp4zCXt_PSt",
        "outputId": "030fa639-d790-422d-cd38-6070a497b596"
      },
      "execution_count": 4,
      "outputs": [
        {
          "output_type": "execute_result",
          "data": {
            "text/plain": [
              "30"
            ]
          },
          "metadata": {},
          "execution_count": 4
        }
      ]
    },
    {
      "cell_type": "code",
      "source": [
        "print(add(10,20))"
      ],
      "metadata": {
        "colab": {
          "base_uri": "https://localhost:8080/"
        },
        "id": "LDEa461SBIWd",
        "outputId": "cfa460e0-c653-4831-824d-05da2f005a8d"
      },
      "execution_count": 5,
      "outputs": [
        {
          "output_type": "stream",
          "name": "stdout",
          "text": [
            "30\n"
          ]
        }
      ]
    },
    {
      "cell_type": "markdown",
      "source": [
        "Variables in functions(Global and Local Scope)\n",
        "Whenever we define Python function, inside the function we can also define a variable. The variable which is defined inside a function,has a very local scope,and also called as a function scope.\n",
        "Example :"
      ],
      "metadata": {
        "id": "M5hs6aGuaxHa"
      }
    },
    {
      "cell_type": "code",
      "source": [
        "x=101\n",
        "#This variable is defined outside.\n",
        "#This variable is not inside any code block\n",
        "#Known as Global Variable/Scope\n",
        "\n",
        "def func():\n",
        "  x=102 #Local Variable/Scope\n",
        "  print(x)\n",
        "\n",
        "func()\n",
        "print(x)"
      ],
      "metadata": {
        "colab": {
          "base_uri": "https://localhost:8080/"
        },
        "id": "ukX3tPU6cHB9",
        "outputId": "283bd3e7-6dfc-4d81-a4b3-7f6984bc9c7e"
      },
      "execution_count": 6,
      "outputs": [
        {
          "output_type": "stream",
          "name": "stdout",
          "text": [
            "102\n",
            "101\n"
          ]
        }
      ]
    },
    {
      "cell_type": "markdown",
      "source": [
        "When the func() is executed,the Local Variable is printed.\n",
        "print(x) prints the Global Variable"
      ],
      "metadata": {
        "id": "TO-fvj3GeBRw"
      }
    },
    {
      "cell_type": "markdown",
      "source": [
        "So the variable which is defined inside the function is a Local Scope and the variable which is defined outside the function is known as Gllobal Scope.\n",
        "\n",
        "Whatever changes you make in the Local Scope does not affect the Global Scope.\n",
        "\n",
        "Whatever changes you do inside a function,that won't affect the Global Scope.\n",
        "Whatever you define inside the function,that get destroyed after the execution of the function.\n",
        "\n",
        "Whenever the func() function is executed,all the parts inside the function will get destroyed."
      ],
      "metadata": {
        "id": "UPDxHy18ecwR"
      }
    },
    {
      "cell_type": "markdown",
      "source": [
        "Different types of Arguments:\n",
        "\n",
        "When you define function we use parameters. When we call the function in place of parameters we use arguments"
      ],
      "metadata": {
        "id": "Jnva7Id_lXvK"
      }
    },
    {
      "cell_type": "code",
      "source": [
        "#Normal function\n",
        "\n",
        "def greet(name,message):\n",
        "  print(name,message)\n",
        "\n",
        "greet(\"Swastika\",\"Hello\")"
      ],
      "metadata": {
        "colab": {
          "base_uri": "https://localhost:8080/"
        },
        "id": "UJAL5uQYnr5M",
        "outputId": "a0992429-9066-4237-d78c-d987d5620aed"
      },
      "execution_count": 7,
      "outputs": [
        {
          "output_type": "stream",
          "name": "stdout",
          "text": [
            "Swastika Hello\n"
          ]
        }
      ]
    },
    {
      "cell_type": "code",
      "source": [
        "#Default argument\n",
        "\n",
        "def greet(name,message=\"Good Morning\"): #value of message is known as default argument\n",
        "  print(name,message)\n",
        "\n",
        "#When I call the greet function,should not pass any value of message.\n",
        "#As I am passing \"Hi\" as the value of the message,it is not printing \"Good Morning\"\n",
        "greet(\"Swastika\",\"Hi\")"
      ],
      "metadata": {
        "colab": {
          "base_uri": "https://localhost:8080/"
        },
        "id": "7-S9DshJsDNs",
        "outputId": "490d93ef-329e-4f29-e642-e326f8ac6a6e"
      },
      "execution_count": 8,
      "outputs": [
        {
          "output_type": "stream",
          "name": "stdout",
          "text": [
            "Swastika Hi\n"
          ]
        }
      ]
    },
    {
      "cell_type": "code",
      "source": [
        "#Default argument\n",
        "\n",
        "def greet(name,message=\"Good Morning\"): #value of message is known as default argument\n",
        "  print(name,message)\n",
        "\n",
        "#When I call the greet function,should not pass any value of message.\n",
        "#As I am not passing the value of the message,it is printing \"Good Morning\"\n",
        "#Default argument is executed\n",
        "greet(\"Swastika\")"
      ],
      "metadata": {
        "colab": {
          "base_uri": "https://localhost:8080/"
        },
        "id": "CnGx9yzhtS1i",
        "outputId": "034dbedb-da4e-4b14-e932-2e16cee70700"
      },
      "execution_count": 9,
      "outputs": [
        {
          "output_type": "stream",
          "name": "stdout",
          "text": [
            "Swastika Good Morning\n"
          ]
        }
      ]
    },
    {
      "cell_type": "code",
      "source": [
        "#Normal function:\n",
        "\n",
        "def greet(name,age,message):\n",
        "  print(message,name,\"your age is\",age)\n",
        "\n",
        "greet(\"Swastika\",99,\"Hello\")"
      ],
      "metadata": {
        "colab": {
          "base_uri": "https://localhost:8080/"
        },
        "id": "1EnX9O0_uM6u",
        "outputId": "bd3da6de-5511-4f64-d261-a821bc294334"
      },
      "execution_count": 10,
      "outputs": [
        {
          "output_type": "stream",
          "name": "stdout",
          "text": [
            "Hello Swastika your age is 99\n"
          ]
        }
      ]
    },
    {
      "cell_type": "code",
      "source": [
        "#Keyword argument:\n",
        "\n",
        "def greet(name,age,message):\n",
        "  print(message,name,\"your age is\",age)\n",
        "\n",
        "greet(name=\"Swastika\",age=99,message=\"Hello\")\n",
        "#When we write name=\"Swastika\",age=99,message=\"Hello\" this is converted to Keyword argument."
      ],
      "metadata": {
        "colab": {
          "base_uri": "https://localhost:8080/"
        },
        "id": "JHP-rhBOkr4-",
        "outputId": "60510590-ef98-441e-c9f9-013a20d22d50"
      },
      "execution_count": 11,
      "outputs": [
        {
          "output_type": "stream",
          "name": "stdout",
          "text": [
            "Hello Swastika your age is 99\n"
          ]
        }
      ]
    },
    {
      "cell_type": "markdown",
      "source": [
        "The advantage of keyword argument is you can change the order.\n",
        "When you are defining the function,1st parameter is name,2nd is age and 3rd is message.\n",
        "If you want you can change the order,when you are calling the function,you can change the order of the arguments.\n",
        "But it will not make any difference.\n",
        "Example below:"
      ],
      "metadata": {
        "id": "WfeGTxycmf4-"
      }
    },
    {
      "cell_type": "code",
      "source": [
        "#Keyword argument:\n",
        "\n",
        "def greet(name,age,message):\n",
        "  print(message,name,\"your age is\",age)\n",
        "\n",
        "greet(age=99,message=\"Hello\",name=\"Swastika\")\n",
        "#Order of arguments changed but printing pattern will be same"
      ],
      "metadata": {
        "colab": {
          "base_uri": "https://localhost:8080/"
        },
        "id": "6B8F1K-9qfrF",
        "outputId": "ffe10e18-702f-4bf3-c0a9-b6cf7f508ed6"
      },
      "execution_count": 12,
      "outputs": [
        {
          "output_type": "stream",
          "name": "stdout",
          "text": [
            "Hello Swastika your age is 99\n"
          ]
        }
      ]
    },
    {
      "cell_type": "markdown",
      "source": [
        "Key of the argument should be matching with the parameter.\n",
        "This is called as Keyword argument."
      ],
      "metadata": {
        "id": "-08I3nWPr4Bx"
      }
    },
    {
      "cell_type": "markdown",
      "source": [
        "Whenever I am making 1 argument as Keyword argument,all the arguments should be keyword argument.It should not be done,1 is keyword argument and another is not, then it shows error."
      ],
      "metadata": {
        "id": "WCgyWpoQsrSV"
      }
    },
    {
      "cell_type": "code",
      "source": [
        "def greet(name,age,message):\n",
        "  print(message,name,\"your age is\",age)\n",
        "\n",
        "greet(99,message=\"Hello\",name=\"Swastika\")\n",
        "#Shows Type Error as 99 is not keyword argument."
      ],
      "metadata": {
        "colab": {
          "base_uri": "https://localhost:8080/",
          "height": 193
        },
        "id": "oCJnNazdtNNc",
        "outputId": "7581da47-f8e3-4d3a-b359-75dab6f54070"
      },
      "execution_count": 13,
      "outputs": [
        {
          "output_type": "error",
          "ename": "TypeError",
          "evalue": "greet() got multiple values for argument 'name'",
          "traceback": [
            "\u001b[0;31m---------------------------------------------------------------------------\u001b[0m",
            "\u001b[0;31mTypeError\u001b[0m                                 Traceback (most recent call last)",
            "\u001b[0;32m<ipython-input-13-77aff600df4b>\u001b[0m in \u001b[0;36m<cell line: 4>\u001b[0;34m()\u001b[0m\n\u001b[1;32m      2\u001b[0m   \u001b[0mprint\u001b[0m\u001b[0;34m(\u001b[0m\u001b[0mmessage\u001b[0m\u001b[0;34m,\u001b[0m\u001b[0mname\u001b[0m\u001b[0;34m,\u001b[0m\u001b[0;34m\"your age is\"\u001b[0m\u001b[0;34m,\u001b[0m\u001b[0mage\u001b[0m\u001b[0;34m)\u001b[0m\u001b[0;34m\u001b[0m\u001b[0;34m\u001b[0m\u001b[0m\n\u001b[1;32m      3\u001b[0m \u001b[0;34m\u001b[0m\u001b[0m\n\u001b[0;32m----> 4\u001b[0;31m \u001b[0mgreet\u001b[0m\u001b[0;34m(\u001b[0m\u001b[0;36m99\u001b[0m\u001b[0;34m,\u001b[0m\u001b[0mmessage\u001b[0m\u001b[0;34m=\u001b[0m\u001b[0;34m\"Hello\"\u001b[0m\u001b[0;34m,\u001b[0m\u001b[0mname\u001b[0m\u001b[0;34m=\u001b[0m\u001b[0;34m\"Swastika\"\u001b[0m\u001b[0;34m)\u001b[0m\u001b[0;34m\u001b[0m\u001b[0;34m\u001b[0m\u001b[0m\n\u001b[0m\u001b[1;32m      5\u001b[0m \u001b[0;31m#Shows Type Error as 99 is not keyword argument.\u001b[0m\u001b[0;34m\u001b[0m\u001b[0;34m\u001b[0m\u001b[0m\n",
            "\u001b[0;31mTypeError\u001b[0m: greet() got multiple values for argument 'name'"
          ]
        }
      ]
    },
    {
      "cell_type": "code",
      "source": [
        "#Positional argument\n",
        "\n",
        "def add_numbers(x,y):\n",
        "  print(\"x \",x)\n",
        "  print(\"y \",y)\n",
        "  print(x+y)\n",
        "\n",
        "add_numbers(5,6)"
      ],
      "metadata": {
        "colab": {
          "base_uri": "https://localhost:8080/"
        },
        "id": "sHo3pkH3t3G8",
        "outputId": "b9f6f905-6947-40ee-b7a6-e91ad677a23f"
      },
      "execution_count": 14,
      "outputs": [
        {
          "output_type": "stream",
          "name": "stdout",
          "text": [
            "x  5\n",
            "y  6\n",
            "11\n"
          ]
        }
      ]
    },
    {
      "cell_type": "markdown",
      "source": [
        "When I call the function add_numbers() and pass the values 5,6 then,\n",
        "5 will be pointed to x\n",
        "6 will be pointed to y"
      ],
      "metadata": {
        "id": "EKdRyPUgzmZT"
      }
    },
    {
      "cell_type": "code",
      "source": [
        "#Positional argument\n",
        "\n",
        "def add_numbers(x,y):\n",
        "  print(\"x \",x)\n",
        "  print(\"y \",y)\n",
        "  print(x+y)\n",
        "\n",
        "add_numbers(6,5)"
      ],
      "metadata": {
        "colab": {
          "base_uri": "https://localhost:8080/"
        },
        "id": "KMaLUF8J0iwD",
        "outputId": "4bf13e37-722a-4e7f-cfec-4fda73f43945"
      },
      "execution_count": 15,
      "outputs": [
        {
          "output_type": "stream",
          "name": "stdout",
          "text": [
            "x  6\n",
            "y  5\n",
            "11\n"
          ]
        }
      ]
    },
    {
      "cell_type": "markdown",
      "source": [
        "I changed the value of the 1st argument 6 and 2nd argument 5, then value of x becomes 6 and value of y becomes 5"
      ],
      "metadata": {
        "id": "US5q9vRX0vVH"
      }
    },
    {
      "cell_type": "markdown",
      "source": [
        "Suppose you want to provide 1 functionality which is the addition of numbers.\n",
        "\n",
        "You have to add 2 numbers.\n",
        "\n",
        "You have to define 1 function named add and pass the parameters a and b and return a+b\n",
        "code:\n",
        "def add(a,b):\n",
        "    return a+b\n",
        "\n",
        "Sometimes after you got the requirment to add 3 numbers,\n",
        "code:\n",
        "def add3(a,b,c):\n",
        "    return a+b+c\n",
        "\n",
        "When you want to add 4 numbers,\n",
        "code:\n",
        "def add4(a+b+c+d):\n",
        "    return a+b+c+d\n",
        "\n",
        "Whenever I am having the requirment of adding more numbers, I should keep on defining the new functions.\n",
        "\n",
        "Now if you write code like this you will face lots of challenges:\n",
        "1.Lot of code you have to write.\n",
        "2.Multiple function will take a memory wastage.\n",
        "\n",
        "So in Python new method came, where we can take variable number of arguments.\n",
        "\n",
        "For this 2 concepts comes,\n",
        "1)The function which takes the variable number of args.\n",
        "2)The function which takes the variable number of key value arguments.\n",
        "\n",
        "Let's see both of them with the help of an example."
      ],
      "metadata": {
        "id": "OwRfpqD11OEZ"
      }
    },
    {
      "cell_type": "code",
      "source": [
        "#I have to take a function which takes the variable number of arguments.\n",
        "#You should pass the parameter prefixed with *\n",
        "\n",
        "def sum_numbers(*args):#A variable number of argument is always indicated by a keyword called as * in the beginning.\n",
        "  print(type(args))\n",
        "  print(args)\n",
        "\n",
        "  sum=0\n",
        "  for num in args :\n",
        "    sum += num\n",
        "  return sum"
      ],
      "metadata": {
        "id": "8R5COqHa0t-r"
      },
      "execution_count": 16,
      "outputs": []
    },
    {
      "cell_type": "code",
      "source": [
        "print(sum_numbers(1,2,3,4,5))"
      ],
      "metadata": {
        "colab": {
          "base_uri": "https://localhost:8080/"
        },
        "id": "A220JXFuLdzl",
        "outputId": "19b9a37a-78ff-4917-c610-69ad880634ae"
      },
      "execution_count": 17,
      "outputs": [
        {
          "output_type": "stream",
          "name": "stdout",
          "text": [
            "<class 'tuple'>\n",
            "(1, 2, 3, 4, 5)\n",
            "15\n"
          ]
        }
      ]
    },
    {
      "cell_type": "markdown",
      "source": [
        "Whatever you pass inside the function sum_numbers() will be converted to Tuple.\n"
      ],
      "metadata": {
        "id": "Ga8CMKziMlF7"
      }
    },
    {
      "cell_type": "markdown",
      "source": [
        "Is args is a fixed keyword?\n",
        "->No in place of args you can give any name. It will run."
      ],
      "metadata": {
        "id": "mlOyVpIrOEgY"
      }
    },
    {
      "cell_type": "code",
      "source": [
        "def sum_numbers(*Swastika):\n",
        "  print(type(Swastika))\n",
        "  print(Swastika)\n",
        "\n",
        "  sum=0\n",
        "  for num in Swastika :\n",
        "    sum += num\n",
        "  return sum"
      ],
      "metadata": {
        "id": "H-rSlsqMLsuV"
      },
      "execution_count": 18,
      "outputs": []
    },
    {
      "cell_type": "code",
      "source": [
        "print(sum_numbers(1,2,3,4,5))"
      ],
      "metadata": {
        "colab": {
          "base_uri": "https://localhost:8080/"
        },
        "id": "DAh50_gNObRA",
        "outputId": "2a309d85-a969-41b1-8301-ae92ac5b5ec9"
      },
      "execution_count": 19,
      "outputs": [
        {
          "output_type": "stream",
          "name": "stdout",
          "text": [
            "<class 'tuple'>\n",
            "(1, 2, 3, 4, 5)\n",
            "15\n"
          ]
        }
      ]
    },
    {
      "cell_type": "markdown",
      "source": [
        "Suppose you are having variable number of arguments. Can you pass normal arguments?"
      ],
      "metadata": {
        "id": "389BuNRgOwjc"
      }
    },
    {
      "cell_type": "code",
      "source": [
        "def fn(a,b,*args):\n",
        "  print(a)\n",
        "  print(b)\n",
        "  print(args) #This prints the tuple\n",
        "  print(*args) #This unboxes the Tuple\n",
        "\n",
        "fn(5,6,7,8,9)\n"
      ],
      "metadata": {
        "colab": {
          "base_uri": "https://localhost:8080/"
        },
        "id": "LeU1RN1HOfL9",
        "outputId": "7c502cc4-3413-40b5-ccfa-6fb5a8209930"
      },
      "execution_count": 20,
      "outputs": [
        {
          "output_type": "stream",
          "name": "stdout",
          "text": [
            "5\n",
            "6\n",
            "(7, 8, 9)\n",
            "7 8 9\n"
          ]
        }
      ]
    },
    {
      "cell_type": "code",
      "source": [
        "def fn(*args,a,b,):\n",
        "  print(a)\n",
        "  print(b)\n",
        "  print(args)\n",
        "  print(*args)\n",
        "\n",
        "fn(5,6,7,8,9)"
      ],
      "metadata": {
        "colab": {
          "base_uri": "https://localhost:8080/",
          "height": 176
        },
        "id": "7Scrm1A7Ql-k",
        "outputId": "b6b1b60e-23ae-4bdc-b06f-33a427c3b588"
      },
      "execution_count": 21,
      "outputs": [
        {
          "output_type": "error",
          "ename": "TypeError",
          "evalue": "fn() missing 2 required keyword-only arguments: 'a' and 'b'",
          "traceback": [
            "\u001b[0;31m---------------------------------------------------------------------------\u001b[0m",
            "\u001b[0;31mTypeError\u001b[0m                                 Traceback (most recent call last)",
            "\u001b[0;32m<ipython-input-21-56472f047fdd>\u001b[0m in \u001b[0;36m<cell line: 7>\u001b[0;34m()\u001b[0m\n\u001b[1;32m      5\u001b[0m   \u001b[0mprint\u001b[0m\u001b[0;34m(\u001b[0m\u001b[0;34m*\u001b[0m\u001b[0margs\u001b[0m\u001b[0;34m)\u001b[0m\u001b[0;34m\u001b[0m\u001b[0;34m\u001b[0m\u001b[0m\n\u001b[1;32m      6\u001b[0m \u001b[0;34m\u001b[0m\u001b[0m\n\u001b[0;32m----> 7\u001b[0;31m \u001b[0mfn\u001b[0m\u001b[0;34m(\u001b[0m\u001b[0;36m5\u001b[0m\u001b[0;34m,\u001b[0m\u001b[0;36m6\u001b[0m\u001b[0;34m,\u001b[0m\u001b[0;36m7\u001b[0m\u001b[0;34m,\u001b[0m\u001b[0;36m8\u001b[0m\u001b[0;34m,\u001b[0m\u001b[0;36m9\u001b[0m\u001b[0;34m)\u001b[0m\u001b[0;34m\u001b[0m\u001b[0;34m\u001b[0m\u001b[0m\n\u001b[0m",
            "\u001b[0;31mTypeError\u001b[0m: fn() missing 2 required keyword-only arguments: 'a' and 'b'"
          ]
        }
      ]
    },
    {
      "cell_type": "markdown",
      "source": [
        "This is showing error as whenever you write *args in the beginning, and call the fn and pass the values 5,6,7,8,9 all will get mapped to the args.\n",
        "So nothing is left for a,b"
      ],
      "metadata": {
        "id": "Lx5y_YQkRsgE"
      }
    },
    {
      "cell_type": "markdown",
      "source": [
        "Rules:\n",
        "1. *args should be the last parameter.\n",
        "2. If *args is your 1st parameter, then the values of a and b should be\n",
        "   keynamed arguments."
      ],
      "metadata": {
        "id": "t-C2SbkiTKK7"
      }
    },
    {
      "cell_type": "code",
      "source": [
        "def fn(*args,a,b,):\n",
        "  print(a)\n",
        "  print(b)\n",
        "  print(args)\n",
        "  print(*args)\n",
        "\n",
        "fn(5,6,7,a=8,b=9)"
      ],
      "metadata": {
        "colab": {
          "base_uri": "https://localhost:8080/"
        },
        "id": "prYJuJI0RlhE",
        "outputId": "edb27fea-9003-4425-9b31-6a70eb7eb22a"
      },
      "execution_count": 22,
      "outputs": [
        {
          "output_type": "stream",
          "name": "stdout",
          "text": [
            "8\n",
            "9\n",
            "(5, 6, 7)\n",
            "5 6 7\n"
          ]
        }
      ]
    },
    {
      "cell_type": "markdown",
      "source": [
        "Kwargs in Python:"
      ],
      "metadata": {
        "id": "4Ozs1WgCUz2V"
      }
    },
    {
      "cell_type": "markdown",
      "source": [
        "So think about it, if I want to put keywords argument and that should be also a variable length, 1,2 or 3, depending on how much do I want I should pass it. For that there is a solution in Python known as Kwargs."
      ],
      "metadata": {
        "id": "fXs2dPpiVBR4"
      }
    },
    {
      "cell_type": "code",
      "source": [
        "def display_info(**kwargs):\n",
        "  print(kwargs)\n",
        "  print(type(kwargs))\n",
        "\n",
        "  for key,value in kwargs.items():\n",
        "    print(key,\" --> \",value)"
      ],
      "metadata": {
        "id": "w8q4RRTBUMVc"
      },
      "execution_count": 23,
      "outputs": []
    },
    {
      "cell_type": "code",
      "source": [
        "display_info(name=\"Swastika\",age=99,city=\"Kolkata\")"
      ],
      "metadata": {
        "colab": {
          "base_uri": "https://localhost:8080/"
        },
        "id": "5ESEGflVZIVu",
        "outputId": "1d363be2-463a-401c-d59d-8ef950ab1576"
      },
      "execution_count": 24,
      "outputs": [
        {
          "output_type": "stream",
          "name": "stdout",
          "text": [
            "{'name': 'Swastika', 'age': 99, 'city': 'Kolkata'}\n",
            "<class 'dict'>\n",
            "name  -->  Swastika\n",
            "age  -->  99\n",
            "city  -->  Kolkata\n"
          ]
        }
      ]
    },
    {
      "cell_type": "code",
      "source": [
        "def func(a,b,*args,**kwargs):\n",
        "  print(a)\n",
        "  print(b)\n",
        "  print(args)\n",
        "  print(kwargs)\n",
        "\n",
        "\n",
        "func(5,6,7,8,9,name=\"Vishwa\",age=99)"
      ],
      "metadata": {
        "colab": {
          "base_uri": "https://localhost:8080/"
        },
        "id": "D3WWD1UVZYdd",
        "outputId": "4501eb39-6356-4f1e-de70-aa72cfc12919"
      },
      "execution_count": 25,
      "outputs": [
        {
          "output_type": "stream",
          "name": "stdout",
          "text": [
            "5\n",
            "6\n",
            "(7, 8, 9)\n",
            "{'name': 'Vishwa', 'age': 99}\n"
          ]
        }
      ]
    },
    {
      "cell_type": "markdown",
      "source": [
        "Positional arguments will work in the above case."
      ],
      "metadata": {
        "id": "8f_PagDoa38z"
      }
    },
    {
      "cell_type": "markdown",
      "source": [
        "Can I write kwargs in the 1st position of the parameters?"
      ],
      "metadata": {
        "id": "1K5Cm0VYbKNC"
      }
    },
    {
      "cell_type": "code",
      "source": [
        "def func1(**kwargs,a,b):\n",
        "  print(kwargs)\n",
        "  print(a)\n",
        "  print(b)\n",
        "\n",
        "func1(name=\"Swastika\",age=99,7,9)"
      ],
      "metadata": {
        "colab": {
          "base_uri": "https://localhost:8080/",
          "height": 106
        },
        "id": "8KM_C0-iakrM",
        "outputId": "f7da39a3-e649-4d7f-a745-1b8ea803f05f"
      },
      "execution_count": 26,
      "outputs": [
        {
          "output_type": "error",
          "ename": "SyntaxError",
          "evalue": "invalid syntax (<ipython-input-26-fd91afadc759>, line 1)",
          "traceback": [
            "\u001b[0;36m  File \u001b[0;32m\"<ipython-input-26-fd91afadc759>\"\u001b[0;36m, line \u001b[0;32m1\u001b[0m\n\u001b[0;31m    def func1(**kwargs,a,b):\u001b[0m\n\u001b[0m                       ^\u001b[0m\n\u001b[0;31mSyntaxError\u001b[0m\u001b[0;31m:\u001b[0m invalid syntax\n"
          ]
        }
      ]
    },
    {
      "cell_type": "markdown",
      "source": [
        "Shows error.\n",
        "Kwargs should always be the last parameter."
      ],
      "metadata": {
        "id": "nwFuhw5Wb-wi"
      }
    },
    {
      "cell_type": "markdown",
      "source": [
        "Return Types & Function Nesting:"
      ],
      "metadata": {
        "id": "zAcCrrlJclSn"
      }
    },
    {
      "cell_type": "code",
      "source": [
        "def add_numbers(a : int, b : int)-> int :\n",
        "  return a+b"
      ],
      "metadata": {
        "id": "PYtWhQKUctEj"
      },
      "execution_count": 27,
      "outputs": []
    },
    {
      "cell_type": "code",
      "source": [
        "add_numbers(5,7)"
      ],
      "metadata": {
        "colab": {
          "base_uri": "https://localhost:8080/"
        },
        "id": "QSfdGgdaz9_X",
        "outputId": "75ff17f2-82a4-42bd-cf2a-cb0d3a5647be"
      },
      "execution_count": 28,
      "outputs": [
        {
          "output_type": "execute_result",
          "data": {
            "text/plain": [
              "12"
            ]
          },
          "metadata": {},
          "execution_count": 28
        }
      ]
    },
    {
      "cell_type": "code",
      "source": [
        "add_numbers(5.5,7.7)"
      ],
      "metadata": {
        "colab": {
          "base_uri": "https://localhost:8080/"
        },
        "id": "JUXI9TTB0bqJ",
        "outputId": "24136c83-775a-4503-cfdb-2dd1427eed3c"
      },
      "execution_count": 29,
      "outputs": [
        {
          "output_type": "execute_result",
          "data": {
            "text/plain": [
              "13.2"
            ]
          },
          "metadata": {},
          "execution_count": 29
        }
      ]
    },
    {
      "cell_type": "markdown",
      "source": [
        "This is implicit conversion"
      ],
      "metadata": {
        "id": "2BBGXF0e26k5"
      }
    },
    {
      "cell_type": "markdown",
      "source": [
        "This will convert float number also"
      ],
      "metadata": {
        "id": "qa_ZJefd0oA4"
      }
    },
    {
      "cell_type": "code",
      "source": [
        "def outer():\n",
        "  print(\"Hello from the outer\")\n",
        "\n",
        "  def inner():\n",
        "    print(\"Hello from the inner\")\n",
        "\n",
        "  return inner"
      ],
      "metadata": {
        "id": "Hr16tXAS0f5U"
      },
      "execution_count": 30,
      "outputs": []
    },
    {
      "cell_type": "code",
      "source": [
        "fn = outer()"
      ],
      "metadata": {
        "colab": {
          "base_uri": "https://localhost:8080/"
        },
        "id": "tE8L5_xc3569",
        "outputId": "6ff30bcb-8ffa-47ff-f080-cf99dd3c5221"
      },
      "execution_count": 31,
      "outputs": [
        {
          "output_type": "stream",
          "name": "stdout",
          "text": [
            "Hello from the outer\n"
          ]
        }
      ]
    },
    {
      "cell_type": "code",
      "source": [
        "fn()"
      ],
      "metadata": {
        "colab": {
          "base_uri": "https://localhost:8080/"
        },
        "id": "3Xe-53jB4LeH",
        "outputId": "fe839463-b114-474b-f9b0-7f7d470663f4"
      },
      "execution_count": 32,
      "outputs": [
        {
          "output_type": "stream",
          "name": "stdout",
          "text": [
            "Hello from the inner\n"
          ]
        }
      ]
    },
    {
      "cell_type": "code",
      "source": [
        "outer()()"
      ],
      "metadata": {
        "colab": {
          "base_uri": "https://localhost:8080/"
        },
        "id": "HSS9l-Fd4Pqt",
        "outputId": "b0f99caa-bb31-4991-9044-13b646a64c44"
      },
      "execution_count": 33,
      "outputs": [
        {
          "output_type": "stream",
          "name": "stdout",
          "text": [
            "Hello from the outer\n",
            "Hello from the inner\n"
          ]
        }
      ]
    },
    {
      "cell_type": "markdown",
      "source": [
        "Pass by Value(Immutable Datatypes)"
      ],
      "metadata": {
        "id": "IaszfX9U4_LT"
      }
    },
    {
      "cell_type": "markdown",
      "source": [
        "Let's try to understand about pass by value and pass by reference:\n",
        "\n",
        "In Python we define a function and use parameter and when we call that function we pass some argument.\n",
        "\n",
        "The argument is passed in 2 ways.\n",
        "1.Pass by Value\n",
        "2.Pass by Reference\n",
        "\n",
        "1.Pass by Value:\n",
        "This means the value is not originally passed, the copy of the value or clone of the value is passed.\n",
        "Whatever change you do in the copy,nothing will be changed in the original value."
      ],
      "metadata": {
        "id": "Yw8uLSq-6Ems"
      }
    },
    {
      "cell_type": "code",
      "source": [
        "#Pass by Value\n",
        "\n",
        "num = 5\n",
        "\n",
        "def modify_num(num):\n",
        "  num += 1\n",
        "  print(num)\n",
        "\n",
        "modify_num(num)\n",
        "\n",
        "print(\"Original num\",num)"
      ],
      "metadata": {
        "colab": {
          "base_uri": "https://localhost:8080/"
        },
        "id": "dAeJxHHh4mO0",
        "outputId": "a19cefc2-3fca-4e6d-911e-310ef6cca7e4"
      },
      "execution_count": 34,
      "outputs": [
        {
          "output_type": "stream",
          "name": "stdout",
          "text": [
            "6\n",
            "Original num 5\n"
          ]
        }
      ]
    },
    {
      "cell_type": "markdown",
      "source": [
        "modify_num(num) is not the original,it is the copy or clone of num.\n",
        "So as you are changing in the copy,nothing is changed in the original.\n",
        "So when you pass an argument like this,when you go and pass the copy not the actual value that typically is called as Pass by Values.\n",
        "\n",
        "Pass by Value will be active when your arguments are immutable data types.\n",
        "\n",
        "Imutable data types are:\n",
        "1.Numbers\n",
        "2.String\n",
        "3.Tuple\n",
        "\n",
        "As no changes are done in immutable data types,it should always passed by values.\n",
        "\n",
        "Pass by Reference:\n",
        "Whenever I pass value in the function and function will modify the value,then it is known as Pass by Reference."
      ],
      "metadata": {
        "id": "VBdidRw9ZQ00"
      }
    },
    {
      "cell_type": "code",
      "source": [
        "#Pass by Reference: -> When you pass mutable data types : List, Dictionary"
      ],
      "metadata": {
        "id": "qFTnm6TXYqvc"
      },
      "execution_count": 35,
      "outputs": []
    },
    {
      "cell_type": "code",
      "source": [
        "my_list = [1,2,4]\n",
        "\n",
        "def modify_list(li):\n",
        "  li.append(5)\n",
        "  print(li)\n",
        "\n",
        "print(\"Before calling fun\", my_list)\n",
        "\n",
        "modify_list(my_list)\n",
        "\n",
        "print(\"After calling fun\",my_list)"
      ],
      "metadata": {
        "colab": {
          "base_uri": "https://localhost:8080/"
        },
        "id": "FDrou44Ac9my",
        "outputId": "fdeceb70-2f0b-4c29-8eb6-c9b31234f0ac"
      },
      "execution_count": 36,
      "outputs": [
        {
          "output_type": "stream",
          "name": "stdout",
          "text": [
            "Before calling fun [1, 2, 4]\n",
            "[1, 2, 4, 5]\n",
            "After calling fun [1, 2, 4, 5]\n"
          ]
        }
      ]
    },
    {
      "cell_type": "markdown",
      "source": [
        "So whenever your datatype is mutable, typically what you go and pass is a Pass by Reference.\n",
        "Change will impact the original data."
      ],
      "metadata": {
        "id": "zyi8RsayfFaq"
      }
    },
    {
      "cell_type": "markdown",
      "source": [
        "Conclusion:\n",
        "Pass by Value:\n",
        "Whenever you are having immutable data types values(eg)Number,String,Tuple) whenever this will pass in a function, function will accept this as a copy, you can make change in the values, but nothing will be changed in the original value. That is called as Pass by Value.\n",
        "\n",
        "Pass by Reference:\n",
        "Whenever the datatypes of the values are mutable,eg) List, Dictionary and you will pass that as a function argument, and if you change the values inside the function, it will make change in the original value."
      ],
      "metadata": {
        "id": "ivxaccvffpXa"
      }
    },
    {
      "cell_type": "markdown",
      "source": [
        "Lamda function:\n",
        "This is the type of a function.This is a function only.\n",
        "There is a specific scenario for Lamda function.\n",
        "Also known as Anonymous function.\n",
        "In a particular moment, when I have to build up some logic, I use the function, later I should not reuse it, this is the nature of Anonymous function.\n",
        "\n",
        "1.Can take any number of arguments.\n",
        "2.Body/expression - single line\n",
        "\n",
        "lambda arguments : expression where lambda is the keyword"
      ],
      "metadata": {
        "id": "4O5KvL1kkMOh"
      }
    },
    {
      "cell_type": "code",
      "source": [
        "#Lambda functions\n",
        "\n",
        "func = lambda x : x+10 #lambda is keyword, x is argument, x+10 is expression\n",
        "\n",
        "print(func(5))"
      ],
      "metadata": {
        "colab": {
          "base_uri": "https://localhost:8080/"
        },
        "id": "BzhhSCrbeu2s",
        "outputId": "373b56bb-53f7-4bb1-9218-1ceaf0d98703"
      },
      "execution_count": 37,
      "outputs": [
        {
          "output_type": "stream",
          "name": "stdout",
          "text": [
            "15\n"
          ]
        }
      ]
    },
    {
      "cell_type": "code",
      "source": [
        "add = lambda a , b : a + b\n",
        "\n",
        "print(add(5,6))"
      ],
      "metadata": {
        "colab": {
          "base_uri": "https://localhost:8080/"
        },
        "id": "xd72ASwdqpLe",
        "outputId": "6a39dc63-d94a-4a99-a480-2aa1be98a2a7"
      },
      "execution_count": 38,
      "outputs": [
        {
          "output_type": "stream",
          "name": "stdout",
          "text": [
            "11\n"
          ]
        }
      ]
    },
    {
      "cell_type": "code",
      "source": [
        "def myFunc() :\n",
        "  #return a new function\n",
        "  return lambda msg : print(msg)\n",
        "\n",
        "myFunc()(\"Hello World\")"
      ],
      "metadata": {
        "colab": {
          "base_uri": "https://localhost:8080/"
        },
        "id": "29h3UA57q90J",
        "outputId": "9bc58003-1fc1-4d1a-9b1c-47a738517b9a"
      },
      "execution_count": 39,
      "outputs": [
        {
          "output_type": "stream",
          "name": "stdout",
          "text": [
            "Hello World\n"
          ]
        }
      ]
    },
    {
      "cell_type": "markdown",
      "source": [
        "Explanation:\n",
        "lambda msg : print(msg)...... this whole expression is nothing but a function and this function takes 1 single argument, msg and prints the expression,msg. So when I call myFunc(), this is nothing but a function and I have provided the function the argument, \"Hello World\", so it is printing Hello World."
      ],
      "metadata": {
        "id": "HzkPtOphr4Jk"
      }
    },
    {
      "cell_type": "code",
      "source": [],
      "metadata": {
        "id": "G8E9DKcMry7y"
      },
      "execution_count": null,
      "outputs": []
    }
  ]
}