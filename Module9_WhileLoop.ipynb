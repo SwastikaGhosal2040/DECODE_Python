{
 "cells": [
  {
   "cell_type": "code",
   "execution_count": 1,
   "id": "87d2a03e-826b-410e-a8e0-ff7acad7a41e",
   "metadata": {},
   "outputs": [],
   "source": [
    "num = 10\n",
    "while num>10:\n",
    "    print(\"Hello World\")\n",
    "    \n",
    "#as the condition of the whilw loop is false, nothing is printed"
   ]
  },
  {
   "cell_type": "code",
   "execution_count": 2,
   "id": "9e666ebb-b8e6-4a07-942d-832e2f336ccb",
   "metadata": {},
   "outputs": [
    {
     "data": {
      "text/plain": [
       "'\\nnum = 10\\nwhile num>0:\\n    print(\"Hello World\")\\n    \\n#As the condition of the while loop is true always..\\n#It leads to infinite execution\\n'"
      ]
     },
     "execution_count": 2,
     "metadata": {},
     "output_type": "execute_result"
    }
   ],
   "source": [
    "'''\n",
    "num = 10\n",
    "while num>0:\n",
    "    print(\"Hello World\")\n",
    "    \n",
    "#As the condition of the while loop is true always..\n",
    "#It leads to infinite execution\n",
    "'''"
   ]
  },
  {
   "cell_type": "code",
   "execution_count": 3,
   "id": "86dda336-ef5d-4e80-8ab1-ab7ade361901",
   "metadata": {},
   "outputs": [
    {
     "name": "stdout",
     "output_type": "stream",
     "text": [
      "Hello World\n",
      "Hello World\n",
      "Hello World\n",
      "Hello World\n",
      "Hello World\n",
      "Hello World\n",
      "Hello World\n",
      "Hello World\n",
      "Hello World\n",
      "Hello World\n"
     ]
    }
   ],
   "source": [
    "num = 10\n",
    "while num > 0:\n",
    "    print(\"Hello World\")\n",
    "    num -= 1\n",
    "    \n",
    "#It will print Hello World 10 times"
   ]
  },
  {
   "cell_type": "code",
   "execution_count": null,
   "id": "fd491bb1-6d4b-401d-9968-8a059b0f622c",
   "metadata": {},
   "outputs": [],
   "source": []
  }
 ],
 "metadata": {
  "kernelspec": {
   "display_name": "Python 3 (ipykernel)",
   "language": "python",
   "name": "python3"
  },
  "language_info": {
   "codemirror_mode": {
    "name": "ipython",
    "version": 3
   },
   "file_extension": ".py",
   "mimetype": "text/x-python",
   "name": "python",
   "nbconvert_exporter": "python",
   "pygments_lexer": "ipython3",
   "version": "3.10.8"
  }
 },
 "nbformat": 4,
 "nbformat_minor": 5
}
