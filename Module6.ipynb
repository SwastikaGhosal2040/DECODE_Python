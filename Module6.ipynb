{
 "cells": [
  {
   "cell_type": "code",
   "execution_count": 1,
   "id": "b50a1db4-ec50-4237-94dc-6c7ee192a43b",
   "metadata": {},
   "outputs": [],
   "source": [
    "#Type of data:\n",
    "#1)Numerical[Integer,Float,Complex]\n",
    "#2)Sequence[String,List,Tuple]\n",
    "#3)Boolean[True,False]\n",
    "#4)Dictionary\n",
    "#5)Set"
   ]
  },
  {
   "cell_type": "code",
   "execution_count": 3,
   "id": "1407dfaa-2abd-4965-a8df-161c263741f9",
   "metadata": {},
   "outputs": [
    {
     "name": "stdout",
     "output_type": "stream",
     "text": [
      "5\n",
      "<class 'int'>\n"
     ]
    }
   ],
   "source": [
    "#Numerical Data Type\n",
    "x = 5\n",
    "print(x)\n",
    "print(type(x))"
   ]
  },
  {
   "cell_type": "code",
   "execution_count": 4,
   "id": "fbb34945-6614-46bc-9873-3e10a987f292",
   "metadata": {},
   "outputs": [
    {
     "name": "stdout",
     "output_type": "stream",
     "text": [
      "26.25\n",
      "<class 'float'>\n"
     ]
    }
   ],
   "source": [
    "price = 26.25\n",
    "print(price)\n",
    "print(type(price))"
   ]
  },
  {
   "cell_type": "code",
   "execution_count": 5,
   "id": "362ed663-47f0-4053-889b-8e45b93204fb",
   "metadata": {},
   "outputs": [
    {
     "name": "stdout",
     "output_type": "stream",
     "text": [
      "3000000.0\n",
      "<class 'float'>\n"
     ]
    }
   ],
   "source": [
    "num = 3e6\n",
    "print(num)\n",
    "print(type(num))"
   ]
  },
  {
   "cell_type": "code",
   "execution_count": 6,
   "id": "5118613d-7fdd-4340-b275-b8c830a5387b",
   "metadata": {},
   "outputs": [
    {
     "name": "stdout",
     "output_type": "stream",
     "text": [
      "(4+5j)\n",
      "<class 'complex'>\n"
     ]
    }
   ],
   "source": [
    "z = 4 + 5j\n",
    "print(z)\n",
    "print(type(z))"
   ]
  },
  {
   "cell_type": "code",
   "execution_count": 7,
   "id": "ce568f5a-49f0-421c-8642-6079f73f53ab",
   "metadata": {},
   "outputs": [],
   "source": [
    "#inbuilt functions"
   ]
  },
  {
   "cell_type": "code",
   "execution_count": 8,
   "id": "157db1c2-38e3-41a4-afff-a4f44ccfa3b9",
   "metadata": {},
   "outputs": [
    {
     "name": "stdout",
     "output_type": "stream",
     "text": [
      "5\n"
     ]
    }
   ],
   "source": [
    "print(abs(-5))"
   ]
  },
  {
   "cell_type": "code",
   "execution_count": 9,
   "id": "ab853e9e-3605-4870-a279-89495146e3b2",
   "metadata": {},
   "outputs": [
    {
     "name": "stdout",
     "output_type": "stream",
     "text": [
      "8\n"
     ]
    }
   ],
   "source": [
    "print(pow(2,3))\n",
    "#Two arguments are there 2 and 3 this means-> 2 raised to the power 3 "
   ]
  },
  {
   "cell_type": "code",
   "execution_count": 10,
   "id": "2e66fd9c-ba77-4a3d-a19c-1bdc25b94331",
   "metadata": {},
   "outputs": [
    {
     "name": "stdout",
     "output_type": "stream",
     "text": [
      "5\n"
     ]
    }
   ],
   "source": [
    "print(round(4.75))"
   ]
  },
  {
   "cell_type": "code",
   "execution_count": 11,
   "id": "07dfe011-ba6e-49c4-8af1-8a517ab9b3b4",
   "metadata": {},
   "outputs": [
    {
     "name": "stdout",
     "output_type": "stream",
     "text": [
      "4\n"
     ]
    }
   ],
   "source": [
    "print(round(4.5))"
   ]
  },
  {
   "cell_type": "code",
   "execution_count": 12,
   "id": "e5a32c17-b006-4a56-9c15-930439a18609",
   "metadata": {},
   "outputs": [
    {
     "name": "stdout",
     "output_type": "stream",
     "text": [
      "1\n",
      "9\n",
      "26\n"
     ]
    }
   ],
   "source": [
    "nums = [3,1,5,7,9,1]\n",
    "print(min(nums))\n",
    "print(max(nums))\n",
    "print(sum(nums))"
   ]
  },
  {
   "cell_type": "code",
   "execution_count": 13,
   "id": "e7b1906a-80ad-4500-83e9-7d3bfa5fa3dd",
   "metadata": {},
   "outputs": [],
   "source": [
    "#Sequence Data Type"
   ]
  },
  {
   "cell_type": "code",
   "execution_count": 14,
   "id": "4860915a-eb54-4615-a8d9-32bcac718a0e",
   "metadata": {},
   "outputs": [
    {
     "name": "stdout",
     "output_type": "stream",
     "text": [
      "['Mohan', 'Vishwa', 'Shivani', 'Sakshi']\n",
      "<class 'list'>\n"
     ]
    }
   ],
   "source": [
    "#List\n",
    "students = [\"Mohan\",\"Vishwa\",\"Shivani\",\"Sakshi\"]\n",
    "print(students)\n",
    "print(type(students))"
   ]
  },
  {
   "cell_type": "code",
   "execution_count": 15,
   "id": "fb7a2af6-eb4d-4617-a6d0-849a7d698d4e",
   "metadata": {},
   "outputs": [
    {
     "name": "stdout",
     "output_type": "stream",
     "text": [
      "['Mohan', 'Vishwa', 'Shivani', 'Sakshi']\n"
     ]
    }
   ],
   "source": [
    "list2 = list(students)\n",
    "print(list2)"
   ]
  },
  {
   "cell_type": "code",
   "execution_count": 16,
   "id": "24c1d9aa-7672-4928-ba6d-c98c3a550340",
   "metadata": {},
   "outputs": [
    {
     "name": "stdout",
     "output_type": "stream",
     "text": [
      "['V', 'i', 's', 'h', 'w', 'a']\n"
     ]
    }
   ],
   "source": [
    "list3 = list(\"Vishwa\")\n",
    "print(list3)"
   ]
  },
  {
   "cell_type": "code",
   "execution_count": 17,
   "id": "f0d1b7af-f520-404b-9077-2f1c4d83147d",
   "metadata": {},
   "outputs": [
    {
     "name": "stdout",
     "output_type": "stream",
     "text": [
      "[3, 4, 'Vishwa']\n"
     ]
    }
   ],
   "source": [
    "list4 = list((3,4,\"Vishwa\"))\n",
    "print(list4)"
   ]
  },
  {
   "cell_type": "code",
   "execution_count": 18,
   "id": "78ef79ed-bffd-4785-98d9-0ab03f2a313f",
   "metadata": {},
   "outputs": [],
   "source": [
    "#Accessing the elements of the list:"
   ]
  },
  {
   "cell_type": "code",
   "execution_count": 19,
   "id": "7ab1f2ce-92b8-4b49-9498-9bd0be9a6041",
   "metadata": {},
   "outputs": [
    {
     "name": "stdout",
     "output_type": "stream",
     "text": [
      "2\n",
      "2\n",
      "3\n"
     ]
    }
   ],
   "source": [
    "l1 = [1,3,9,2,5,6,7]\n",
    "print(l1[3])\n",
    "print(l1[-4])\n",
    "print(l1[-6])"
   ]
  },
  {
   "cell_type": "code",
   "execution_count": 20,
   "id": "4a60ecb0-24b8-4fab-aa68-4a30a954f8a4",
   "metadata": {},
   "outputs": [
    {
     "name": "stdout",
     "output_type": "stream",
     "text": [
      "[3, 2, 1, 5, 9, 11]\n"
     ]
    }
   ],
   "source": [
    "arr = [3,2,1,5,9]\n",
    "arr.append(11) #insert at the end\n",
    "print(arr)"
   ]
  },
  {
   "cell_type": "code",
   "execution_count": 21,
   "id": "cbff2c50-0433-4bdd-b57e-93236fee7689",
   "metadata": {},
   "outputs": [
    {
     "name": "stdout",
     "output_type": "stream",
     "text": [
      "[3, 2, 1, 43, 5, 9, 11]\n"
     ]
    }
   ],
   "source": [
    "arr.insert(3,43) #3rd index value 43\n",
    "print(arr)"
   ]
  },
  {
   "cell_type": "code",
   "execution_count": 22,
   "id": "234a4a61-e380-443a-b602-fc1ed3e49153",
   "metadata": {},
   "outputs": [
    {
     "name": "stdout",
     "output_type": "stream",
     "text": [
      "[1, 2, 'Vishwa', 'Mohan']\n"
     ]
    }
   ],
   "source": [
    "l1 = [1,2]\n",
    "l2 = [\"Vishwa\",\"Mohan\"]\n",
    "l1.extend(l2)\n",
    "print(l1)"
   ]
  },
  {
   "cell_type": "code",
   "execution_count": 23,
   "id": "34ea021f-32bd-45c5-a5ea-885ca8fb3584",
   "metadata": {},
   "outputs": [
    {
     "name": "stdout",
     "output_type": "stream",
     "text": [
      "[3, 5, 2, 9]\n"
     ]
    }
   ],
   "source": [
    "arr = [3,5,2,1,9]\n",
    "arr.remove(1)\n",
    "print(arr)"
   ]
  },
  {
   "cell_type": "code",
   "execution_count": 24,
   "id": "4155d1ee-c200-41b9-9ac3-91b9469d121d",
   "metadata": {},
   "outputs": [
    {
     "name": "stdout",
     "output_type": "stream",
     "text": [
      "[3, 5, 2, 9, 1, 8, 1]\n"
     ]
    }
   ],
   "source": [
    "arr = [3,5,2,1,9,1,8,1]\n",
    "arr.remove(1) #1st occurrence(means from left) of 1 is removed\n",
    "print(arr)"
   ]
  },
  {
   "cell_type": "code",
   "execution_count": 25,
   "id": "a6e2bdf9-7dd9-4a3c-bcef-12585c45a09d",
   "metadata": {},
   "outputs": [
    {
     "name": "stdout",
     "output_type": "stream",
     "text": [
      "45\n",
      "[3, 1, 7, 9, 11, 23]\n"
     ]
    }
   ],
   "source": [
    "arr = [3,1,7,9,11,23,45]\n",
    "print(arr.pop()) #last element is printed\n",
    "print(arr)  #without last element the list is printed"
   ]
  },
  {
   "cell_type": "code",
   "execution_count": 26,
   "id": "4c71f1d5-75d6-4b25-bddb-e59b0b4c0bc3",
   "metadata": {},
   "outputs": [
    {
     "name": "stdout",
     "output_type": "stream",
     "text": [
      "[3, 1, 9, 11, 23, 45]\n"
     ]
    }
   ],
   "source": [
    "arr = [3,1,7,9,11,23,45]\n",
    "arr.pop(2)  #element of the 2nd index is printed->7\n",
    "print(arr) #without the element of the 2nd index the list is printed"
   ]
  },
  {
   "cell_type": "code",
   "execution_count": 27,
   "id": "18d98775-838f-4d6b-b17a-544f3867e0fa",
   "metadata": {},
   "outputs": [
    {
     "name": "stdout",
     "output_type": "stream",
     "text": [
      "['a', 'b', 'c', 'f', 'e']\n"
     ]
    }
   ],
   "source": [
    "students = ['a','b','c','d','e']\n",
    "students[3] = 'f'\n",
    "print(students)"
   ]
  },
  {
   "cell_type": "code",
   "execution_count": 28,
   "id": "b119d129-1f7d-44a0-b502-3d26290cbc8d",
   "metadata": {},
   "outputs": [
    {
     "name": "stdout",
     "output_type": "stream",
     "text": [
      "['a', 'm', 'n', 'o', 'e']\n"
     ]
    }
   ],
   "source": [
    "students = ['a','b','c','d','e']\n",
    "students[1:4] = 'm','n','o'\n",
    "print(students)"
   ]
  },
  {
   "cell_type": "code",
   "execution_count": 29,
   "id": "068b5a1d-be95-47b1-88cf-15a144e79b8a",
   "metadata": {},
   "outputs": [
    {
     "name": "stdout",
     "output_type": "stream",
     "text": [
      "['a', 'm', 'n', 'e']\n"
     ]
    }
   ],
   "source": [
    "students = ['a','b','c','d','e']\n",
    "students[1:4] = 'm','n'\n",
    "print(students)"
   ]
  },
  {
   "cell_type": "code",
   "execution_count": 30,
   "id": "f1413e10-2972-4d9e-8dca-aa81b813dc6a",
   "metadata": {},
   "outputs": [
    {
     "name": "stdout",
     "output_type": "stream",
     "text": [
      "[5, 4, 3, 2, 1]\n"
     ]
    }
   ],
   "source": [
    "l1 = [1,2,3,4,5]\n",
    "l1.reverse()\n",
    "print(l1)"
   ]
  },
  {
   "cell_type": "code",
   "execution_count": 31,
   "id": "1f1c1478-2b5e-4bce-a638-54f7c3ab2aa6",
   "metadata": {},
   "outputs": [
    {
     "name": "stdout",
     "output_type": "stream",
     "text": [
      "[5, 4, 3, 2, 1]\n"
     ]
    }
   ],
   "source": [
    "l1_copy = l1.copy()\n",
    "print(l1_copy)"
   ]
  },
  {
   "cell_type": "code",
   "execution_count": 33,
   "id": "c30d4647-f63b-42d8-b80e-fc2a5ee92782",
   "metadata": {},
   "outputs": [
    {
     "name": "stdout",
     "output_type": "stream",
     "text": [
      "[5, 4, 3, 2, 1]\n",
      "[5, 4, 3, 2, 1]\n",
      "139803539872384 139803539767424\n"
     ]
    }
   ],
   "source": [
    "l1_copy = l1.copy()\n",
    "print(l1_copy)\n",
    "print(l1)\n",
    "print(id(l1_copy),id(l1))"
   ]
  },
  {
   "cell_type": "code",
   "execution_count": 34,
   "id": "4a4d6c47-b062-4a44-af8c-e597012b0d3e",
   "metadata": {},
   "outputs": [],
   "source": [
    "#Though l1 and l1_copy both prints same list, there id are different"
   ]
  },
  {
   "cell_type": "code",
   "execution_count": 35,
   "id": "36ce7f48-e711-4c05-9db6-0e610764e08d",
   "metadata": {},
   "outputs": [
    {
     "name": "stdout",
     "output_type": "stream",
     "text": [
      "[1, 2, 3, 4, 5]\n"
     ]
    }
   ],
   "source": [
    "l1.sort()\n",
    "print(l1)"
   ]
  },
  {
   "cell_type": "code",
   "execution_count": null,
   "id": "b1638849-1283-4f82-81f0-41e9ef4d82ad",
   "metadata": {},
   "outputs": [],
   "source": []
  }
 ],
 "metadata": {
  "kernelspec": {
   "display_name": "Python 3 (ipykernel)",
   "language": "python",
   "name": "python3"
  },
  "language_info": {
   "codemirror_mode": {
    "name": "ipython",
    "version": 3
   },
   "file_extension": ".py",
   "mimetype": "text/x-python",
   "name": "python",
   "nbconvert_exporter": "python",
   "pygments_lexer": "ipython3",
   "version": "3.10.8"
  }
 },
 "nbformat": 4,
 "nbformat_minor": 5
}
