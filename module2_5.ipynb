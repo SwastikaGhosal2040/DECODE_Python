{
 "cells": [
  {
   "cell_type": "code",
   "execution_count": 1,
   "id": "d5d834a0-ceae-4deb-ba24-4b6e830cc000",
   "metadata": {},
   "outputs": [
    {
     "name": "stdout",
     "output_type": "stream",
     "text": [
      "Hello World!\n"
     ]
    }
   ],
   "source": [
    "#Basics\n",
    "print(\"Hello World!\")"
   ]
  },
  {
   "cell_type": "code",
   "execution_count": 2,
   "id": "0e28b631-980e-4c7e-8b68-413c1ad8d912",
   "metadata": {},
   "outputs": [
    {
     "name": "stdout",
     "output_type": "stream",
     "text": [
      "It's so easy\n"
     ]
    }
   ],
   "source": [
    "print(\"It's so easy\")"
   ]
  },
  {
   "cell_type": "code",
   "execution_count": 3,
   "id": "e1976c4e-fb86-475b-9146-892aa6b64ee8",
   "metadata": {},
   "outputs": [],
   "source": [
    "#Variables in Python"
   ]
  },
  {
   "cell_type": "code",
   "execution_count": 4,
   "id": "d3fb410f-6b8f-4a35-8af2-7f86cade8ce8",
   "metadata": {},
   "outputs": [],
   "source": [
    "name = \"Swastika\"\n",
    "#If you run it, a variable called name is formed inside which Swastika string is stored "
   ]
  },
  {
   "cell_type": "code",
   "execution_count": 5,
   "id": "eedda842-1acc-415d-8cf3-f8370e114107",
   "metadata": {},
   "outputs": [],
   "source": [
    "age = 99\n",
    "#If you run it, age variable is created inside which 99 value is stored"
   ]
  },
  {
   "cell_type": "code",
   "execution_count": 6,
   "id": "0336773f-73db-494e-9ae5-d672b3091b5a",
   "metadata": {},
   "outputs": [
    {
     "name": "stdout",
     "output_type": "stream",
     "text": [
      "140521564736816\n"
     ]
    }
   ],
   "source": [
    "print(id(age))"
   ]
  },
  {
   "cell_type": "code",
   "execution_count": 7,
   "id": "51b4e333-474c-4a85-99d4-e8a0e7a23bc5",
   "metadata": {},
   "outputs": [
    {
     "name": "stdout",
     "output_type": "stream",
     "text": [
      "140521564736816\n"
     ]
    }
   ],
   "source": [
    "x = 99\n",
    "print(id(x))"
   ]
  },
  {
   "cell_type": "code",
   "execution_count": 8,
   "id": "4f848b56-2c14-443c-aa3c-3ef75d7e20d9",
   "metadata": {},
   "outputs": [],
   "source": [
    "#Variable naming rule"
   ]
  },
  {
   "cell_type": "code",
   "execution_count": 9,
   "id": "b5c39ee0-7577-40e6-a336-12c6d6d40f6a",
   "metadata": {},
   "outputs": [
    {
     "ename": "SyntaxError",
     "evalue": "cannot assign to expression here. Maybe you meant '==' instead of '='? (3241162270.py, line 1)",
     "output_type": "error",
     "traceback": [
      "\u001b[0;36m  Cell \u001b[0;32mIn[9], line 1\u001b[0;36m\u001b[0m\n\u001b[0;31m    na%me = \"Swastika\"\u001b[0m\n\u001b[0m    ^\u001b[0m\n\u001b[0;31mSyntaxError\u001b[0m\u001b[0;31m:\u001b[0m cannot assign to expression here. Maybe you meant '==' instead of '='?\n"
     ]
    }
   ],
   "source": [
    "na%me = \"Swastika\"\n",
    "#'%' is not allowed in variable naming"
   ]
  },
  {
   "cell_type": "code",
   "execution_count": 10,
   "id": "91f387ea-8def-4fd9-8c3c-d47f8c37cb14",
   "metadata": {},
   "outputs": [],
   "source": [
    "na1me = \"Swastika\"\n",
    "#It will run properly"
   ]
  },
  {
   "cell_type": "code",
   "execution_count": 11,
   "id": "7b472b98-f496-4c4b-9e44-5a0c8f4c779d",
   "metadata": {},
   "outputs": [],
   "source": [
    "na_me = \"Swastika\"\n",
    "#It will run properly"
   ]
  },
  {
   "cell_type": "code",
   "execution_count": 12,
   "id": "5f15e5a8-91ae-45e6-a64e-56721cac1add",
   "metadata": {},
   "outputs": [
    {
     "ename": "SyntaxError",
     "evalue": "invalid decimal literal (4151084452.py, line 1)",
     "output_type": "error",
     "traceback": [
      "\u001b[0;36m  Cell \u001b[0;32mIn[12], line 1\u001b[0;36m\u001b[0m\n\u001b[0;31m    1age = 99\u001b[0m\n\u001b[0m    ^\u001b[0m\n\u001b[0;31mSyntaxError\u001b[0m\u001b[0;31m:\u001b[0m invalid decimal literal\n"
     ]
    }
   ],
   "source": [
    "1age = 99\n",
    "#can't start variable name with numbers\n",
    "#syntax error shows"
   ]
  },
  {
   "cell_type": "code",
   "execution_count": 13,
   "id": "eed98fae-439b-4e76-8613-70fb92ce2028",
   "metadata": {},
   "outputs": [],
   "source": [
    "_age = 99\n",
    "#It will run properly"
   ]
  },
  {
   "cell_type": "code",
   "execution_count": 14,
   "id": "20878fbc-dd49-4410-abde-97547e9ac044",
   "metadata": {},
   "outputs": [
    {
     "name": "stdout",
     "output_type": "stream",
     "text": [
      "21\n",
      "22\n"
     ]
    }
   ],
   "source": [
    "#Variable naming Rule2(case sensitive)\n",
    "a = 21\n",
    "A = 22\n",
    "print(a)\n",
    "print(A)"
   ]
  },
  {
   "cell_type": "code",
   "execution_count": 15,
   "id": "07b1a2e8-7307-46fe-baad-4fff66b89a74",
   "metadata": {},
   "outputs": [
    {
     "ename": "SyntaxError",
     "evalue": "invalid syntax (4272953044.py, line 2)",
     "output_type": "error",
     "traceback": [
      "\u001b[0;36m  Cell \u001b[0;32mIn[15], line 2\u001b[0;36m\u001b[0m\n\u001b[0;31m    def = 99\u001b[0m\n\u001b[0m        ^\u001b[0m\n\u001b[0;31mSyntaxError\u001b[0m\u001b[0;31m:\u001b[0m invalid syntax\n"
     ]
    }
   ],
   "source": [
    "#Variable naming Rule3(avoid using keywords)\n",
    "def = 99\n",
    "#If you run it shows syntax error"
   ]
  },
  {
   "cell_type": "code",
   "execution_count": 16,
   "id": "9f3b5310-0e51-4a5e-8551-9ee87fa2ed08",
   "metadata": {},
   "outputs": [],
   "source": [
    "def1 = 99\n",
    "#def1 is not a reserved keyword...so it will run properly"
   ]
  },
  {
   "cell_type": "code",
   "execution_count": 17,
   "id": "f58c3791-6aa1-486b-a6c2-43cfbbf4d809",
   "metadata": {},
   "outputs": [
    {
     "ename": "SyntaxError",
     "evalue": "invalid syntax (714773996.py, line 2)",
     "output_type": "error",
     "traceback": [
      "\u001b[0;36m  Cell \u001b[0;32mIn[17], line 2\u001b[0;36m\u001b[0m\n\u001b[0;31m    my name = \"Swastika\"\u001b[0m\n\u001b[0m       ^\u001b[0m\n\u001b[0;31mSyntaxError\u001b[0m\u001b[0;31m:\u001b[0m invalid syntax\n"
     ]
    }
   ],
   "source": [
    "#Variable naming Rule4(variable should be a single word)\n",
    "my name = \"Swastika\"\n",
    "#It shows error as there is space in variable name"
   ]
  },
  {
   "cell_type": "code",
   "execution_count": 18,
   "id": "9e990477-f103-46be-8cb8-1d07428a8730",
   "metadata": {},
   "outputs": [],
   "source": [
    "my_name = \"Swastika\"\n",
    "#It will run properly"
   ]
  },
  {
   "cell_type": "code",
   "execution_count": 19,
   "id": "7fbe4989-bab2-4fd2-8bcd-1b615e17cbab",
   "metadata": {},
   "outputs": [
    {
     "name": "stdout",
     "output_type": "stream",
     "text": [
      "Hello\n"
     ]
    }
   ],
   "source": [
    "#comments in Python:\n",
    "#This is a single line comment\n",
    "print(\"Hello\")"
   ]
  },
  {
   "cell_type": "code",
   "execution_count": 20,
   "id": "6c883c5a-b234-40a4-8cb3-a4f7c644996f",
   "metadata": {},
   "outputs": [
    {
     "data": {
      "text/plain": [
       "'\\n This is the first line of comment\\n This is the second line of comment\\n This is the third line of comment\\n'"
      ]
     },
     "execution_count": 20,
     "metadata": {},
     "output_type": "execute_result"
    }
   ],
   "source": [
    "'''\n",
    " This is the first line of comment\n",
    " This is the second line of comment\n",
    " This is the third line of comment\n",
    "'''"
   ]
  },
  {
   "cell_type": "code",
   "execution_count": 21,
   "id": "5a035955-93b0-46fa-92dd-8e6622408102",
   "metadata": {},
   "outputs": [
    {
     "name": "stdout",
     "output_type": "stream",
     "text": [
      " Swastika\n"
     ]
    },
    {
     "data": {
      "text/plain": [
       "'Swastika'"
      ]
     },
     "execution_count": 21,
     "metadata": {},
     "output_type": "execute_result"
    }
   ],
   "source": [
    "#input() method:\n",
    "input()"
   ]
  },
  {
   "cell_type": "code",
   "execution_count": 22,
   "id": "5700c8a1-fd09-4323-b1f2-49884744d9dd",
   "metadata": {},
   "outputs": [
    {
     "name": "stdout",
     "output_type": "stream",
     "text": [
      " 5\n"
     ]
    },
    {
     "data": {
      "text/plain": [
       "'5'"
      ]
     },
     "execution_count": 22,
     "metadata": {},
     "output_type": "execute_result"
    }
   ],
   "source": [
    "input()"
   ]
  },
  {
   "cell_type": "code",
   "execution_count": 23,
   "id": "482bf8f7-7d3a-4f0e-b0ef-371676095456",
   "metadata": {},
   "outputs": [
    {
     "name": "stdout",
     "output_type": "stream",
     "text": [
      " Swastika\n"
     ]
    },
    {
     "name": "stdout",
     "output_type": "stream",
     "text": [
      "Swastika\n"
     ]
    }
   ],
   "source": [
    "name = input()\n",
    "print(name)"
   ]
  },
  {
   "cell_type": "code",
   "execution_count": 24,
   "id": "9b11f974-aac6-4e62-a7c3-86f8d81804bb",
   "metadata": {},
   "outputs": [
    {
     "name": "stdout",
     "output_type": "stream",
     "text": [
      "Please sir, enter your age in years 99\n"
     ]
    }
   ],
   "source": [
    "age = input(\"Please sir, enter your age in years\")"
   ]
  },
  {
   "cell_type": "code",
   "execution_count": 25,
   "id": "8cf2cbd9-ddea-4944-a704-68d2c79ad7b7",
   "metadata": {},
   "outputs": [
    {
     "name": "stdout",
     "output_type": "stream",
     "text": [
      "99\n"
     ]
    }
   ],
   "source": [
    "print(age)"
   ]
  },
  {
   "cell_type": "code",
   "execution_count": 26,
   "id": "a66a643f-4b9c-4ed7-bdda-0196db4e78cc",
   "metadata": {},
   "outputs": [
    {
     "name": "stdout",
     "output_type": "stream",
     "text": [
      "I am Swastika\n"
     ]
    }
   ],
   "source": [
    "#Output in the world of python:\n",
    "print(\"I am Swastika\")"
   ]
  },
  {
   "cell_type": "code",
   "execution_count": 27,
   "id": "77326802-8e41-408d-bdc2-f3146cb80a6e",
   "metadata": {},
   "outputs": [
    {
     "name": "stdout",
     "output_type": "stream",
     "text": [
      "Hello, my name is  Swastika and my age is  99\n"
     ]
    }
   ],
   "source": [
    "name = \"Swastika\"\n",
    "age = 99\n",
    "print(\"Hello, my name is \",name,\"and my age is \",age)"
   ]
  },
  {
   "cell_type": "code",
   "execution_count": 28,
   "id": "7275b2c3-5928-4484-a080-c9c9a1938031",
   "metadata": {},
   "outputs": [],
   "source": [
    "#Formatted string in Python"
   ]
  },
  {
   "cell_type": "code",
   "execution_count": 29,
   "id": "96ef3d70-8cae-4b86-bfb4-830092fb24b1",
   "metadata": {},
   "outputs": [
    {
     "name": "stdout",
     "output_type": "stream",
     "text": [
      "My name is Swastika and age is 99\n"
     ]
    }
   ],
   "source": [
    "print(f\"My name is {name} and age is {age}\")"
   ]
  },
  {
   "cell_type": "code",
   "execution_count": 30,
   "id": "3bdfa03b-be88-49ca-9ec6-d2bd7d3a03b3",
   "metadata": {},
   "outputs": [],
   "source": [
    "#If you want to print 3 variables with comma seperated values"
   ]
  },
  {
   "cell_type": "code",
   "execution_count": 31,
   "id": "e3c35ec2-ffb8-4a9c-b857-100d3ba2a213",
   "metadata": {},
   "outputs": [
    {
     "name": "stdout",
     "output_type": "stream",
     "text": [
      "2,3,4\n"
     ]
    }
   ],
   "source": [
    "x = 2\n",
    "y = 3\n",
    "z = 4\n",
    "print(x,y,z, sep = \",\")"
   ]
  },
  {
   "cell_type": "code",
   "execution_count": 32,
   "id": "30de57b8-d2f0-443c-84bc-a692320c5b33",
   "metadata": {},
   "outputs": [
    {
     "name": "stdout",
     "output_type": "stream",
     "text": [
      "2$3$4\n"
     ]
    }
   ],
   "source": [
    "x = 2\n",
    "y = 3\n",
    "z = 4\n",
    "print(x,y,z, sep = \"$\")"
   ]
  },
  {
   "cell_type": "code",
   "execution_count": 33,
   "id": "2bd2611e-b04d-42e6-b9c0-5b0b8e1b19fa",
   "metadata": {},
   "outputs": [
    {
     "name": "stdout",
     "output_type": "stream",
     "text": [
      "Hello\n",
      "World\n",
      "!\n"
     ]
    }
   ],
   "source": [
    "print(\"Hello\")\n",
    "print(\"World\")\n",
    "print(\"!\")"
   ]
  },
  {
   "cell_type": "code",
   "execution_count": 34,
   "id": "4d584251-bc90-483b-b45a-d0ddbeea87f2",
   "metadata": {},
   "outputs": [],
   "source": [
    "#3 print statements prints 3 different lines"
   ]
  },
  {
   "cell_type": "code",
   "execution_count": 35,
   "id": "0bd49b8f-a714-4022-b227-8cc9b1919c06",
   "metadata": {},
   "outputs": [],
   "source": [
    "#If you want to print-> Hello World! (in 1 line)"
   ]
  },
  {
   "cell_type": "code",
   "execution_count": 1,
   "id": "a205d668-510a-4184-be28-a52a550587df",
   "metadata": {},
   "outputs": [
    {
     "name": "stdout",
     "output_type": "stream",
     "text": [
      "Hello World !\n"
     ]
    }
   ],
   "source": [
    "print(\"Hello\", end = \" \")\n",
    "print(\"World\", end = \" \")\n",
    "print(\"!\")"
   ]
  },
  {
   "cell_type": "code",
   "execution_count": null,
   "id": "2be3c6a6-10d6-438e-beef-6d69024c6e32",
   "metadata": {},
   "outputs": [],
   "source": []
  }
 ],
 "metadata": {
  "kernelspec": {
   "display_name": "Python 3 (ipykernel)",
   "language": "python",
   "name": "python3"
  },
  "language_info": {
   "codemirror_mode": {
    "name": "ipython",
    "version": 3
   },
   "file_extension": ".py",
   "mimetype": "text/x-python",
   "name": "python",
   "nbconvert_exporter": "python",
   "pygments_lexer": "ipython3",
   "version": "3.11.9"
  }
 },
 "nbformat": 4,
 "nbformat_minor": 5
}
