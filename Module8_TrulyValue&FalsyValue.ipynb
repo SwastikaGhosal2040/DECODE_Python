{
 "cells": [
  {
   "cell_type": "code",
   "execution_count": 1,
   "id": "98b4f7b5-a145-4f30-8d28-271ce37ca9b0",
   "metadata": {},
   "outputs": [],
   "source": [
    "#Truly Values\n",
    "#1. Non empty sequences are considered to be truly values\n",
    "#Non empty list with atleast 1 element -> [1]\n",
    "#Non empty string with atleast 1 character -> 'a'\n",
    "#Non empty tuple having elements -> (1,2) are considered to be truly values\n",
    "#2. Non-zero numerical value +ve(7,6 etc) or -ve(-3,-8 etc) considered to be truly values "
   ]
  },
  {
   "cell_type": "code",
   "execution_count": 2,
   "id": "673b4209-58fa-4a06-9c5d-c486fdacda8c",
   "metadata": {},
   "outputs": [
    {
     "name": "stdout",
     "output_type": "stream",
     "text": [
      "Inside if\n"
     ]
    }
   ],
   "source": [
    "if 5:  #Truly value->True[Bcz non zero numerical value]\n",
    "    print(\"Inside if\")"
   ]
  },
  {
   "cell_type": "code",
   "execution_count": 3,
   "id": "be135054-b2f5-4ab9-bd85-73278f7e0f1d",
   "metadata": {},
   "outputs": [
    {
     "name": "stdout",
     "output_type": "stream",
     "text": [
      "Inside if\n"
     ]
    }
   ],
   "source": [
    "if [5]: #Truly value->True[Bcz non empty list]\n",
    "    print(\"Inside if\")"
   ]
  },
  {
   "cell_type": "code",
   "execution_count": 4,
   "id": "6fa405f2-c005-4b78-955c-bf0b7613cb24",
   "metadata": {},
   "outputs": [
    {
     "name": "stdout",
     "output_type": "stream",
     "text": [
      "Inside else\n"
     ]
    }
   ],
   "source": [
    "if 0:   #Falsy value->False[Bcz zero numerical value]\n",
    "    print(\"Inside if\")\n",
    "else:\n",
    "    print(\"Inside else\")"
   ]
  },
  {
   "cell_type": "code",
   "execution_count": 5,
   "id": "cb00d62a-9845-4c83-b133-3c81851bb414",
   "metadata": {},
   "outputs": [
    {
     "name": "stdout",
     "output_type": "stream",
     "text": [
      "Inside else\n"
     ]
    }
   ],
   "source": [
    "if \"\":  #Falsy value->False[empty string]\n",
    "    print(\"Inside if\")\n",
    "else:\n",
    "    print(\"Inside else\")"
   ]
  },
  {
   "cell_type": "code",
   "execution_count": null,
   "id": "9a0b554f-b9c1-4bd5-b049-b9080008082b",
   "metadata": {},
   "outputs": [],
   "source": []
  }
 ],
 "metadata": {
  "kernelspec": {
   "display_name": "Python 3 (ipykernel)",
   "language": "python",
   "name": "python3"
  },
  "language_info": {
   "codemirror_mode": {
    "name": "ipython",
    "version": 3
   },
   "file_extension": ".py",
   "mimetype": "text/x-python",
   "name": "python",
   "nbconvert_exporter": "python",
   "pygments_lexer": "ipython3",
   "version": "3.10.8"
  }
 },
 "nbformat": 4,
 "nbformat_minor": 5
}
