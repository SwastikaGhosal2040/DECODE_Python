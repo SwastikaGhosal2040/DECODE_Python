{
 "cells": [
  {
   "cell_type": "code",
   "execution_count": 1,
   "id": "4e950450-22de-45e2-855d-048d8034b66a",
   "metadata": {},
   "outputs": [
    {
     "name": "stdout",
     "output_type": "stream",
     "text": [
      "False\n"
     ]
    }
   ],
   "source": [
    "num1 = 10\n",
    "num2 = 20\n",
    "print(num1 == num2)"
   ]
  },
  {
   "cell_type": "code",
   "execution_count": 2,
   "id": "f35b6246-9518-4d14-aeb5-f1fa51bd4676",
   "metadata": {},
   "outputs": [
    {
     "name": "stdout",
     "output_type": "stream",
     "text": [
      "True\n"
     ]
    }
   ],
   "source": [
    "print(num1 != num2)"
   ]
  },
  {
   "cell_type": "code",
   "execution_count": 3,
   "id": "13458cc1-c654-495f-9721-8cf395872aac",
   "metadata": {},
   "outputs": [
    {
     "name": "stdout",
     "output_type": "stream",
     "text": [
      "True\n"
     ]
    }
   ],
   "source": [
    "print(num1 < num2)"
   ]
  },
  {
   "cell_type": "code",
   "execution_count": 4,
   "id": "b7a183c2-6279-4cae-b2d7-d6b937be57e5",
   "metadata": {},
   "outputs": [
    {
     "name": "stdout",
     "output_type": "stream",
     "text": [
      "True\n"
     ]
    }
   ],
   "source": [
    "print(num1 <= num2)"
   ]
  },
  {
   "cell_type": "code",
   "execution_count": 5,
   "id": "db79cc0d-ba34-41ef-8941-95a6f03078c6",
   "metadata": {},
   "outputs": [
    {
     "name": "stdout",
     "output_type": "stream",
     "text": [
      "False\n"
     ]
    }
   ],
   "source": [
    "print(num1 > num2)"
   ]
  },
  {
   "cell_type": "code",
   "execution_count": 6,
   "id": "9620d603-c25a-4f5e-842e-a3b7d0a531a3",
   "metadata": {},
   "outputs": [
    {
     "name": "stdout",
     "output_type": "stream",
     "text": [
      "False\n"
     ]
    }
   ],
   "source": [
    "print(num1 >= num2)"
   ]
  },
  {
   "cell_type": "code",
   "execution_count": 7,
   "id": "16395e26-e676-4125-a9c2-653447ac4ba7",
   "metadata": {},
   "outputs": [
    {
     "name": "stdout",
     "output_type": "stream",
     "text": [
      "False\n"
     ]
    }
   ],
   "source": [
    "pos_inf = float(\"inf\")\n",
    "neg_inf = float(\"-inf\")\n",
    "\n",
    "print(pos_inf == neg_inf)"
   ]
  },
  {
   "cell_type": "code",
   "execution_count": 8,
   "id": "ae6220c9-c169-4ed2-9945-83fbf1c06e61",
   "metadata": {},
   "outputs": [
    {
     "name": "stdout",
     "output_type": "stream",
     "text": [
      "True\n"
     ]
    }
   ],
   "source": [
    "print(pos_inf > neg_inf)"
   ]
  },
  {
   "cell_type": "code",
   "execution_count": 9,
   "id": "5d1e63f9-a473-45b5-8293-6612b5535d86",
   "metadata": {},
   "outputs": [],
   "source": [
    "x = float('nan')\n",
    "y = 5\n",
    "z = float('nan')"
   ]
  },
  {
   "cell_type": "code",
   "execution_count": 10,
   "id": "9221e2c9-4564-40e0-bd81-1e90dbf1130e",
   "metadata": {},
   "outputs": [
    {
     "name": "stdout",
     "output_type": "stream",
     "text": [
      "False\n"
     ]
    }
   ],
   "source": [
    "print(x == y)"
   ]
  },
  {
   "cell_type": "code",
   "execution_count": 11,
   "id": "0a6d184a-7bfe-445b-bd33-b847688c20cd",
   "metadata": {},
   "outputs": [],
   "source": [
    "#Bcause x is float and y is int so they can't be equal"
   ]
  },
  {
   "cell_type": "code",
   "execution_count": 12,
   "id": "afae435d-c598-4631-a126-4ca16aec93f6",
   "metadata": {},
   "outputs": [],
   "source": [
    "#nan is always unequal to everyone"
   ]
  },
  {
   "cell_type": "code",
   "execution_count": 13,
   "id": "5fc07bf1-c118-4aef-a8b1-5f98dfe84364",
   "metadata": {},
   "outputs": [
    {
     "name": "stdout",
     "output_type": "stream",
     "text": [
      "False\n"
     ]
    }
   ],
   "source": [
    "print(z == x)\n",
    "#This returns False as nan is unequal to everyone"
   ]
  },
  {
   "cell_type": "code",
   "execution_count": null,
   "id": "682beb65-db4f-4261-9549-2d4daba03afc",
   "metadata": {},
   "outputs": [],
   "source": []
  }
 ],
 "metadata": {
  "kernelspec": {
   "display_name": "Python 3 (ipykernel)",
   "language": "python",
   "name": "python3"
  },
  "language_info": {
   "codemirror_mode": {
    "name": "ipython",
    "version": 3
   },
   "file_extension": ".py",
   "mimetype": "text/x-python",
   "name": "python",
   "nbconvert_exporter": "python",
   "pygments_lexer": "ipython3",
   "version": "3.10.8"
  }
 },
 "nbformat": 4,
 "nbformat_minor": 5
}
