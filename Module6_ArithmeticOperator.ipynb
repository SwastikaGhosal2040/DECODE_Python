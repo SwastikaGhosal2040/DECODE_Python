{
 "cells": [
  {
   "cell_type": "code",
   "execution_count": 1,
   "id": "ce9708ea-536c-44e1-b2c3-8374ff715263",
   "metadata": {},
   "outputs": [
    {
     "name": "stdout",
     "output_type": "stream",
     "text": [
      "30\n"
     ]
    }
   ],
   "source": [
    "#Arithmetic Operator\n",
    "\n",
    "num1 = 10\n",
    "num2 = 20\n",
    "\n",
    "print(num1 + num2)"
   ]
  },
  {
   "cell_type": "code",
   "execution_count": 2,
   "id": "18e7b0aa-23fe-48cd-9a41-7cdb5b7ba513",
   "metadata": {},
   "outputs": [
    {
     "name": "stdout",
     "output_type": "stream",
     "text": [
      "10\n"
     ]
    }
   ],
   "source": [
    "print(num2 - num1)"
   ]
  },
  {
   "cell_type": "code",
   "execution_count": 3,
   "id": "1aa255e4-9bbd-436d-9d04-e829b3850a08",
   "metadata": {},
   "outputs": [
    {
     "name": "stdout",
     "output_type": "stream",
     "text": [
      "400\n"
     ]
    }
   ],
   "source": [
    "print(num2 * num2)"
   ]
  },
  {
   "cell_type": "code",
   "execution_count": 4,
   "id": "aca1b66d-a476-4249-ae61-afc40fa7c42e",
   "metadata": {},
   "outputs": [
    {
     "name": "stdout",
     "output_type": "stream",
     "text": [
      "200\n"
     ]
    }
   ],
   "source": [
    "print(num2 * num1)"
   ]
  },
  {
   "cell_type": "code",
   "execution_count": 5,
   "id": "d50fb407-f76f-4fa7-893f-60a0d7befb9f",
   "metadata": {},
   "outputs": [
    {
     "name": "stdout",
     "output_type": "stream",
     "text": [
      "2.0\n"
     ]
    }
   ],
   "source": [
    "print(num2 / num1)\n",
    "#Division always gives the float number"
   ]
  },
  {
   "cell_type": "code",
   "execution_count": 6,
   "id": "04ff1f67-8914-442a-b2cf-22f132096f04",
   "metadata": {},
   "outputs": [
    {
     "name": "stdout",
     "output_type": "stream",
     "text": [
      "7.666666666666667\n"
     ]
    }
   ],
   "source": [
    "print(23/3)"
   ]
  },
  {
   "cell_type": "code",
   "execution_count": 7,
   "id": "2f5628e5-19dd-4960-9027-e3f080ddae88",
   "metadata": {},
   "outputs": [],
   "source": [
    "#As 23/3 is not divisible, it gives floating point number"
   ]
  },
  {
   "cell_type": "code",
   "execution_count": 8,
   "id": "908339b2-9893-4334-b3a3-8d0f6250ddc2",
   "metadata": {},
   "outputs": [
    {
     "name": "stdout",
     "output_type": "stream",
     "text": [
      "7\n"
     ]
    }
   ],
   "source": [
    "print(23//3)\n",
    "#This gives us quotient and this is always integer"
   ]
  },
  {
   "cell_type": "code",
   "execution_count": 9,
   "id": "287129ce-e1dd-458e-afb6-cedd25c81d5b",
   "metadata": {},
   "outputs": [
    {
     "name": "stdout",
     "output_type": "stream",
     "text": [
      "2\n"
     ]
    }
   ],
   "source": [
    "#As I have to find the remainder,use modulo operator\n",
    "print(23 % 3)"
   ]
  },
  {
   "cell_type": "code",
   "execution_count": 10,
   "id": "f2eb92d5-7be2-47a6-b064-19a27142c76e",
   "metadata": {},
   "outputs": [
    {
     "name": "stdin",
     "output_type": "stream",
     "text": [
      "Enter the number 4\n"
     ]
    },
    {
     "name": "stdout",
     "output_type": "stream",
     "text": [
      "True\n"
     ]
    }
   ],
   "source": [
    "num = int(input(\"Enter the number\"))\n",
    "#I have to confirm whether the number is even or not\n",
    "print(num % 2 == 0)\n",
    "#If the given input is even, it prints true, otherwise it prints false"
   ]
  },
  {
   "cell_type": "code",
   "execution_count": 11,
   "id": "2e9873b4-1185-457f-8e9d-164625bb96c0",
   "metadata": {},
   "outputs": [
    {
     "name": "stdin",
     "output_type": "stream",
     "text": [
      "Enter the number 5\n"
     ]
    },
    {
     "name": "stdout",
     "output_type": "stream",
     "text": [
      "False\n"
     ]
    }
   ],
   "source": [
    "#Writing the same code: To print False: Input should be odd\n",
    "num = int(input(\"Enter the number\"))\n",
    "#I have to confirm whether the number is even or not\n",
    "print(num % 2 == 0)"
   ]
  },
  {
   "cell_type": "code",
   "execution_count": 12,
   "id": "6c270248-2d1f-4b72-a4e8-e71505fe6664",
   "metadata": {},
   "outputs": [
    {
     "name": "stdout",
     "output_type": "stream",
     "text": [
      "8\n"
     ]
    }
   ],
   "source": [
    "print(2 ** 3)"
   ]
  },
  {
   "cell_type": "code",
   "execution_count": 14,
   "id": "29895f65-1352-4da5-b30b-2b265adf091c",
   "metadata": {},
   "outputs": [
    {
     "name": "stdout",
     "output_type": "stream",
     "text": [
      "inf\n"
     ]
    }
   ],
   "source": [
    "#How we go and represent the positive infinity and negative infinity in the world of Python\n",
    "pos_inf = float('inf')\n",
    "print(pos_inf)"
   ]
  },
  {
   "cell_type": "code",
   "execution_count": 15,
   "id": "29be9798-517b-467a-8a23-0240fb7977fe",
   "metadata": {},
   "outputs": [
    {
     "name": "stdout",
     "output_type": "stream",
     "text": [
      "-inf\n"
     ]
    }
   ],
   "source": [
    "neg_inf = float('-inf')\n",
    "print(neg_inf)"
   ]
  },
  {
   "cell_type": "code",
   "execution_count": 16,
   "id": "0f7b6c41-6b58-4896-a235-220b61fb6a95",
   "metadata": {},
   "outputs": [],
   "source": [
    "#The value of positive infinity is greater than negative infinity"
   ]
  },
  {
   "cell_type": "code",
   "execution_count": 17,
   "id": "5e02f3fa-53dc-468e-b2e9-543c3fba2eb2",
   "metadata": {},
   "outputs": [],
   "source": [
    "#There is something called as NaN(Not a Number) which is a special value \n",
    "#representing missing or undefined Python Data\n",
    "\n",
    "#NaN is something which can not be represented as a number\n",
    "#Nan is also a type of float and to represent this we use float NaN"
   ]
  },
  {
   "cell_type": "code",
   "execution_count": 18,
   "id": "282b95c6-cd71-4bd9-bd26-c719b61bd44b",
   "metadata": {},
   "outputs": [
    {
     "name": "stdout",
     "output_type": "stream",
     "text": [
      "nan\n"
     ]
    }
   ],
   "source": [
    "nan = float('nan')\n",
    "print(nan)"
   ]
  },
  {
   "cell_type": "code",
   "execution_count": null,
   "id": "0a359d82-c4d4-4beb-9a90-0a59fafcd8d2",
   "metadata": {},
   "outputs": [],
   "source": []
  }
 ],
 "metadata": {
  "kernelspec": {
   "display_name": "Python 3 (ipykernel)",
   "language": "python",
   "name": "python3"
  },
  "language_info": {
   "codemirror_mode": {
    "name": "ipython",
    "version": 3
   },
   "file_extension": ".py",
   "mimetype": "text/x-python",
   "name": "python",
   "nbconvert_exporter": "python",
   "pygments_lexer": "ipython3",
   "version": "3.10.8"
  }
 },
 "nbformat": 4,
 "nbformat_minor": 5
}
